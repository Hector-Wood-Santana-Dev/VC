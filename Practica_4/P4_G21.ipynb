{
 "cells": [
  {
   "cell_type": "markdown",
   "metadata": {},
   "source": [
    "# Práctica 4 Visión por Computador\n",
    "## Autores:\n",
    "- Héctor Wood Santana\n",
    "- Alejandro Viera Ruiz "
   ]
  },
  {
   "cell_type": "markdown",
   "metadata": {},
   "source": [
    "## Tarea:\n",
    "\n",
    "Para la entrega de esta práctica, la tarea consiste en desarrollar un prototipo que procese uno (vídeo ejemplo proporcionado) o varios vídeos (incluyendo vídeos de cosecha propia):\n",
    "- detecte y siga las personas y vehículos presentes\n",
    "- detecte y lea las matrículas de los vehículos presentes\n",
    "- cuente el total de cada clase\n",
    "- vuelque a disco un vídeo que visualice los resultados\n",
    "- genere un archivo csv con el resultado de la detección y seguimiento. Se sugiere un formato con al menos los siguientes campos:\n",
    "\n",
    "        fotograma, tipo_objeto, confianza, identificador_tracking, x1, y1, x2, y2, matrícula_en_su_caso, confianza, mx1,my1,mx2,my2, texto_matricula\n",
    "\n",
    "La entrega del cuaderno o cuadernos se hace efectiva a través del campus virtual por medio de un enlace github. Además del archivo README, debe incluirse el resultado del vídeo proporcionado como test (o enlace al mismo), y el correspondiente archivo csv. En el caso de entrenarse algún detector, por ejemplo de matrículas, debe proporcionarse acceso al conjunto de datos.\n",
    "\n",
    "Se considerarán extras:\n",
    "- Determine el flujo de personas y vehículos en el vídeo de test en distintas direcciones (vehículos que dejan la imagen por la derecha, por la izquierda, etc.)\n",
    "- Participar en\n",
    "- Evaluar dos alternativas para la detección de matrículas: basada en YOLO, y basada en contornos.\n",
    "- Anonimizar a las personas y vehículos presentes en un vídeo."
   ]
  },
  {
   "cell_type": "code",
   "execution_count": 1,
   "metadata": {},
   "outputs": [],
   "source": [
    "import cv2  \n",
    "import math \n",
    "import numpy as np\n",
    "import matplotlib.pyplot as plt\n",
    "\n",
    "from ultralytics import YOLO\n",
    "from collections import defaultdict"
   ]
  },
  {
   "cell_type": "code",
   "execution_count": null,
   "metadata": {},
   "outputs": [],
   "source": [
    "# Modelo de yolo que se usará.\n",
    "model = YOLO('yolo11n.pt')\n",
    "\n",
    "# Etiqueta de las clases.\n",
    "classNames = [\"person\", \"car\", \"bicycle\", \"motorbike\", \"bus\"]\n",
    "\n",
    "# Video de prueba\n",
    "filename = \"C0142.mp4\"\n",
    "\n",
    "results = model(filename, show=True, classes=[0,1,2,3,4])\n",
    "cv2.destroyAllWindows()"
   ]
  },
  {
   "cell_type": "markdown",
   "metadata": {},
   "source": [
    "A continuación se añade seguimiento a la detección del modelo base. (Haciendo uso de Tesseract-OCR)"
   ]
  },
  {
   "cell_type": "code",
   "execution_count": null,
   "metadata": {},
   "outputs": [],
   "source": [
    "# Carga del modelo\n",
    "model = YOLO('yolo11n.pt') #Contenedores\n",
    "\n",
    "# Video de prueba\n",
    "filename = \"TUD-Crossing.webm\"\n",
    "\n",
    "# Seguimiento, con persistencia entre fotogramas\n",
    "results = model.track(filename, persist=True, show=True, classes=[0,1,2,3])\n",
    "cv2.destroyAllWindows()"
   ]
  },
  {
   "cell_type": "markdown",
   "metadata": {},
   "source": [
    "Hasta ahora, es posible reconocer los distintos vehículos así como las personas que aparecen en el video. Sin embargo, el modelo no está entrenado para reconocer las placas de matrículas (*license plates*). Por lo tanto, a continuación, se procede a reentrenar el modelo para detectar las matrículas como una nueva clase, cuya etiqueta asignada será \"lplate\".\n",
    "\n",
    "Para más información del archivo .yaml, leer el README.md de la práctica 4."
   ]
  },
  {
   "cell_type": "code",
   "execution_count": null,
   "metadata": {},
   "outputs": [],
   "source": [
    "#Carga de modelo preentrenado\n",
    "model = YOLO(\"yolo11n.pt\")\n",
    "\n",
    "#Entrenamiento de modelo con dataset propio\n",
    "model.train(data=\"custom_dataset.yml\", epochs=20, imgsz=416, device=0)"
   ]
  },
  {
   "cell_type": "code",
   "execution_count": null,
   "metadata": {},
   "outputs": [],
   "source": [
    "# Carga del modelo con mejor resultado tras el entrenamiento:\n",
    "model = YOLO('./runs/detect/train5/weights/best.pt') #Contenedores\n",
    "\n",
    "model.track(\"C0142.MP4\", save=True, device=0, show=True)\n",
    "cv2.destroyAllWindows()"
   ]
  }
 ],
 "metadata": {
  "kernelspec": {
   "display_name": "VC_P4",
   "language": "python",
   "name": "python3"
  },
  "language_info": {
   "codemirror_mode": {
    "name": "ipython",
    "version": 3
   },
   "file_extension": ".py",
   "mimetype": "text/x-python",
   "name": "python",
   "nbconvert_exporter": "python",
   "pygments_lexer": "ipython3",
   "version": "3.12.7"
  }
 },
 "nbformat": 4,
 "nbformat_minor": 2
}
