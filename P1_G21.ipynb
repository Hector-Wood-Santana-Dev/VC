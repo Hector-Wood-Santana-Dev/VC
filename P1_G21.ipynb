{
 "cells": [
  {
   "cell_type": "markdown",
   "metadata": {},
   "source": [
    "# Práctica 1 Visión por Computador\n",
    "## Autores:\n",
    "    - Héctor Wood Santana\n",
    "    - Alejandro Viera Ruiz "
   ]
  },
  {
   "cell_type": "code",
   "execution_count": null,
   "metadata": {},
   "outputs": [],
   "source": []
  }
 ],
 "metadata": {
  "language_info": {
   "name": "python"
  }
 },
 "nbformat": 4,
 "nbformat_minor": 2
}
