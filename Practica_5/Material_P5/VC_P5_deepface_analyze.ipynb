{
 "cells": [
  {
   "cell_type": "markdown",
   "id": "c6fd4a50",
   "metadata": {},
   "source": [
    "# Process image folder"
   ]
  },
  {
   "cell_type": "code",
   "execution_count": 1,
   "id": "frank-length",
   "metadata": {},
   "outputs": [
    {
     "name": "stdout",
     "output_type": "stream",
     "text": [
      "WARNING:tensorflow:From c:\\Users\\hecto\\anaconda3\\envs\\VC_P5\\Lib\\site-packages\\tf_keras\\src\\losses.py:2976: The name tf.losses.sparse_softmax_cross_entropy is deprecated. Please use tf.compat.v1.losses.sparse_softmax_cross_entropy instead.\n",
      "\n",
      "./faces\n"
     ]
    },
    {
     "name": "stderr",
     "output_type": "stream",
     "text": [
      "Action: age:   0%|          | 0/4 [00:00<?, ?it/s]    "
     ]
    },
    {
     "name": "stdout",
     "output_type": "stream",
     "text": [
      "24-11-07 16:20:20 - age_model_weights.h5 will be downloaded...\n"
     ]
    },
    {
     "name": "stderr",
     "output_type": "stream",
     "text": [
      "Downloading...\n",
      "From: https://github.com/serengil/deepface_models/releases/download/v1.0/age_model_weights.h5\n",
      "To: C:\\Users\\hecto\\.deepface\\weights\\age_model_weights.h5\n",
      "100%|██████████| 539M/539M [01:10<00:00, 7.68MB/s]\n",
      "Action: gender:  25%|██▌       | 1/4 [01:12<03:38, 72.81s/it]"
     ]
    },
    {
     "name": "stdout",
     "output_type": "stream",
     "text": [
      "24-11-07 16:21:33 - gender_model_weights.h5 will be downloaded...\n"
     ]
    },
    {
     "name": "stderr",
     "output_type": "stream",
     "text": [
      "Downloading...\n",
      "From: https://github.com/serengil/deepface_models/releases/download/v1.0/gender_model_weights.h5\n",
      "To: C:\\Users\\hecto\\.deepface\\weights\\gender_model_weights.h5\n",
      "100%|██████████| 537M/537M [00:56<00:00, 9.50MB/s]\n",
      "Action: race:  50%|█████     | 2/4 [02:12<02:09, 64.86s/it]  "
     ]
    },
    {
     "name": "stdout",
     "output_type": "stream",
     "text": [
      "24-11-07 16:22:32 - race_model_single_batch.h5 will be downloaded...\n"
     ]
    },
    {
     "name": "stderr",
     "output_type": "stream",
     "text": [
      "Downloading...\n",
      "From: https://github.com/serengil/deepface_models/releases/download/v1.0/race_model_single_batch.h5\n",
      "To: C:\\Users\\hecto\\.deepface\\weights\\race_model_single_batch.h5\n",
      "100%|██████████| 537M/537M [01:01<00:00, 8.75MB/s]\n",
      "Action: emotion:  75%|███████▌  | 3/4 [03:15<01:04, 64.26s/it]"
     ]
    },
    {
     "name": "stdout",
     "output_type": "stream",
     "text": [
      "24-11-07 16:23:35 - facial_expression_model_weights.h5 will be downloaded...\n"
     ]
    },
    {
     "name": "stderr",
     "output_type": "stream",
     "text": [
      "Downloading...\n",
      "From: https://github.com/serengil/deepface_models/releases/download/v1.0/facial_expression_model_weights.h5\n",
      "To: C:\\Users\\hecto\\.deepface\\weights\\facial_expression_model_weights.h5\n",
      "100%|██████████| 5.98M/5.98M [00:00<00:00, 9.98MB/s]\n",
      "Action: emotion: 100%|██████████| 4/4 [03:17<00:00, 49.35s/it]\n"
     ]
    },
    {
     "name": "stdout",
     "output_type": "stream",
     "text": [
      "face.jpg\n",
      "[{'age': 31, 'region': {'x': 166, 'y': 204, 'w': 698, 'h': 698, 'left_eye': (626, 484), 'right_eye': (375, 484)}, 'face_confidence': np.float64(0.89), 'gender': {'Woman': np.float32(99.95741), 'Man': np.float32(0.042591076)}, 'dominant_gender': 'Woman', 'race': {'asian': np.float32(97.81231), 'indian': np.float32(0.5659739), 'black': np.float32(0.0028638507), 'white': np.float32(0.115953654), 'middle eastern': np.float32(0.0014399604), 'latino hispanic': np.float32(1.5014509)}, 'dominant_race': 'asian', 'emotion': {'angry': np.float32(1.1949127e-08), 'disgust': np.float32(7.244327e-15), 'fear': np.float32(4.2096508e-07), 'happy': np.float32(97.775085), 'sad': np.float32(6.344615e-07), 'surprise': np.float32(0.00028946876), 'neutral': np.float32(2.2246273)}, 'dominant_emotion': 'happy'}]\n"
     ]
    },
    {
     "name": "stderr",
     "output_type": "stream",
     "text": [
      "Action: emotion: 100%|██████████| 4/4 [00:01<00:00,  3.25it/s]\n"
     ]
    },
    {
     "name": "stdout",
     "output_type": "stream",
     "text": [
      "face2.jpg\n",
      "[{'age': 35, 'region': {'x': 148, 'y': 213, 'w': 702, 'h': 702, 'left_eye': (624, 480), 'right_eye': (387, 485)}, 'face_confidence': np.float64(0.91), 'gender': {'Woman': np.float32(0.0066680964), 'Man': np.float32(99.99334)}, 'dominant_gender': 'Man', 'race': {'asian': np.float32(1.4848733e-06), 'indian': np.float32(5.2397974e-07), 'black': np.float32(1.7740433e-08), 'white': np.float32(99.98428), 'middle eastern': np.float32(0.007816291), 'latino hispanic': np.float32(0.007900617)}, 'dominant_race': 'white', 'emotion': {'angry': np.float32(1.8527963e-07), 'disgust': np.float32(8.723345e-11), 'fear': np.float32(1.459733e-05), 'happy': np.float32(99.99937), 'sad': np.float32(1.9650068e-07), 'surprise': np.float32(9.553801e-08), 'neutral': np.float32(0.0006178212)}, 'dominant_emotion': 'happy'}]\n"
     ]
    },
    {
     "name": "stderr",
     "output_type": "stream",
     "text": [
      "Action: emotion: 100%|██████████| 4/4 [00:00<00:00,  7.09it/s]"
     ]
    },
    {
     "name": "stdout",
     "output_type": "stream",
     "text": [
      "happy.jpg\n",
      "[{'age': 31, 'region': {'x': 115, 'y': 92, 'w': 173, 'h': 173, 'left_eye': (225, 154), 'right_eye': (170, 161)}, 'face_confidence': np.float64(0.95), 'gender': {'Woman': np.float32(0.6617677), 'Man': np.float32(99.338234)}, 'dominant_gender': 'Man', 'race': {'asian': np.float32(0.06889474), 'indian': np.float32(0.058618188), 'black': np.float32(0.002233993), 'white': np.float32(83.98855), 'middle eastern': np.float32(5.917777), 'latino hispanic': np.float32(9.96393)}, 'dominant_race': 'white', 'emotion': {'angry': np.float32(2.5586586e-10), 'disgust': np.float32(1.2794368e-13), 'fear': np.float32(2.0695015e-10), 'happy': np.float32(99.99789), 'sad': np.float32(8.951441e-09), 'surprise': np.float32(2.1431303e-10), 'neutral': np.float32(0.0021105097)}, 'dominant_emotion': 'happy'}]\n"
     ]
    },
    {
     "name": "stderr",
     "output_type": "stream",
     "text": [
      "\n"
     ]
    }
   ],
   "source": [
    "import os\n",
    "import cv2\n",
    "from deepface import DeepFace\n",
    "\n",
    "folder = './faces'\n",
    "\n",
    "print(folder)\n",
    "\n",
    "for file_name in os.listdir(folder):\n",
    "    # Asume imágenes en formato png o jpg\n",
    "    if file_name.endswith('.png') or file_name.endswith('.jpg'):\n",
    "        # Procesa la imagen que asume hay cara, no fuerza la detección\n",
    "        obj = DeepFace.analyze(img_path = os.path.join(folder, file_name), enforce_detection=False, actions =['age', 'gender', 'race', 'emotion'])\n",
    "        print(file_name)\n",
    "        print(obj)\n",
    "        #print(obj[\"region\"])\n",
    "        #print(obj[\"age\"])      \n",
    "        #print(obj[\"gender\"])      \n",
    "        #print(obj[\"race\"])       \n",
    "        #print(obj[\"dominant_race\"]) \n",
    "        #print(obj[\"emotion\"])\n",
    "        #print(obj[\"dominant_emotion\"])\n",
    "       \n",
    "        \n"
   ]
  },
  {
   "attachments": {},
   "cell_type": "markdown",
   "id": "643c68d5",
   "metadata": {},
   "source": [
    "# Process from webcam"
   ]
  },
  {
   "cell_type": "code",
   "execution_count": 1,
   "id": "6b1843aa",
   "metadata": {},
   "outputs": [
    {
     "name": "stdout",
     "output_type": "stream",
     "text": [
      "WARNING:tensorflow:From c:\\Users\\hecto\\anaconda3\\envs\\VC_P5\\Lib\\site-packages\\tf_keras\\src\\losses.py:2976: The name tf.losses.sparse_softmax_cross_entropy is deprecated. Please use tf.compat.v1.losses.sparse_softmax_cross_entropy instead.\n",
      "\n"
     ]
    },
    {
     "name": "stderr",
     "output_type": "stream",
     "text": [
      "Action: emotion: 100%|██████████| 2/2 [00:01<00:00,  1.31it/s]\n"
     ]
    },
    {
     "name": "stdout",
     "output_type": "stream",
     "text": [
      "[{'gender': {'Woman': np.float32(1.8007971), 'Man': np.float32(98.1992)}, 'dominant_gender': 'Man', 'region': {'x': 0, 'y': 0, 'w': 639, 'h': 479, 'left_eye': None, 'right_eye': None}, 'face_confidence': 0, 'emotion': {'angry': np.float32(9.30651e-06), 'disgust': np.float32(4.4415374e-17), 'fear': np.float32(99.98184), 'happy': np.float32(1.4792166e-11), 'sad': np.float32(5.265346e-07), 'surprise': np.float32(5.3009575e-05), 'neutral': np.float32(0.01810092)}, 'dominant_emotion': 'fear'}]\n"
     ]
    },
    {
     "name": "stderr",
     "output_type": "stream",
     "text": [
      "Action: emotion: 100%|██████████| 2/2 [00:00<00:00, 11.29it/s]\n"
     ]
    },
    {
     "name": "stdout",
     "output_type": "stream",
     "text": [
      "[{'gender': {'Woman': np.float32(1.7764872), 'Man': np.float32(98.22351)}, 'dominant_gender': 'Man', 'region': {'x': 0, 'y': 0, 'w': 639, 'h': 479, 'left_eye': None, 'right_eye': None}, 'face_confidence': 0, 'emotion': {'angry': np.float32(9.175849e-06), 'disgust': np.float32(1.7529051e-18), 'fear': np.float32(99.95971), 'happy': np.float32(1.22136945e-11), 'sad': np.float32(3.88146e-07), 'surprise': np.float32(0.000134585), 'neutral': np.float32(0.040133674)}, 'dominant_emotion': 'fear'}]\n"
     ]
    },
    {
     "name": "stderr",
     "output_type": "stream",
     "text": [
      "Action: emotion: 100%|██████████| 2/2 [00:00<00:00, 11.26it/s]\n"
     ]
    },
    {
     "name": "stdout",
     "output_type": "stream",
     "text": [
      "[{'gender': {'Woman': np.float32(0.07612729), 'Man': np.float32(99.923874)}, 'dominant_gender': 'Man', 'region': {'x': 236, 'y': 134, 'w': 191, 'h': 191, 'left_eye': None, 'right_eye': None}, 'face_confidence': np.float64(0.95), 'emotion': {'angry': np.float32(10.049613), 'disgust': np.float32(2.5631164e-06), 'fear': np.float32(0.02232437), 'happy': np.float32(0.00066493347), 'sad': np.float32(2.690619), 'surprise': np.float32(1.4708467e-06), 'neutral': np.float32(87.23677)}, 'dominant_emotion': 'neutral'}]\n"
     ]
    },
    {
     "name": "stderr",
     "output_type": "stream",
     "text": [
      "Action: emotion: 100%|██████████| 2/2 [00:00<00:00, 10.89it/s]\n"
     ]
    },
    {
     "name": "stdout",
     "output_type": "stream",
     "text": [
      "[{'gender': {'Woman': np.float32(0.05912365), 'Man': np.float32(99.94087)}, 'dominant_gender': 'Man', 'region': {'x': 234, 'y': 130, 'w': 194, 'h': 194, 'left_eye': None, 'right_eye': None}, 'face_confidence': np.float64(0.95), 'emotion': {'angry': np.float32(10.32196), 'disgust': np.float32(8.070884e-06), 'fear': np.float32(0.088203676), 'happy': np.float32(0.0009003783), 'sad': np.float32(14.496936), 'surprise': np.float32(2.7996005e-06), 'neutral': np.float32(75.09199)}, 'dominant_emotion': 'neutral'}]\n"
     ]
    },
    {
     "name": "stderr",
     "output_type": "stream",
     "text": [
      "Action: emotion: 100%|██████████| 2/2 [00:00<00:00, 10.69it/s]\n"
     ]
    },
    {
     "name": "stdout",
     "output_type": "stream",
     "text": [
      "[{'gender': {'Woman': np.float32(0.053418044), 'Man': np.float32(99.94659)}, 'dominant_gender': 'Man', 'region': {'x': 238, 'y': 135, 'w': 188, 'h': 188, 'left_eye': None, 'right_eye': None}, 'face_confidence': np.float64(0.95), 'emotion': {'angry': np.float32(13.731135), 'disgust': np.float32(1.9270476e-05), 'fear': np.float32(0.08282211), 'happy': np.float32(0.0019346175), 'sad': np.float32(8.033917), 'surprise': np.float32(7.6090096e-06), 'neutral': np.float32(78.15016)}, 'dominant_emotion': 'neutral'}]\n"
     ]
    },
    {
     "name": "stderr",
     "output_type": "stream",
     "text": [
      "Action: emotion: 100%|██████████| 2/2 [00:00<00:00, 11.48it/s]\n"
     ]
    },
    {
     "name": "stdout",
     "output_type": "stream",
     "text": [
      "[{'gender': {'Woman': np.float32(0.059000984), 'Man': np.float32(99.941)}, 'dominant_gender': 'Man', 'region': {'x': 239, 'y': 133, 'w': 188, 'h': 188, 'left_eye': None, 'right_eye': None}, 'face_confidence': np.float64(0.94), 'emotion': {'angry': np.float32(12.640032), 'disgust': np.float32(1.4925786e-05), 'fear': np.float32(0.091136284), 'happy': np.float32(0.0011357605), 'sad': np.float32(9.459841), 'surprise': np.float32(2.6575995e-06), 'neutral': np.float32(77.80784)}, 'dominant_emotion': 'neutral'}]\n"
     ]
    },
    {
     "name": "stderr",
     "output_type": "stream",
     "text": [
      "Action: emotion: 100%|██████████| 2/2 [00:00<00:00, 10.66it/s]\n"
     ]
    },
    {
     "name": "stdout",
     "output_type": "stream",
     "text": [
      "[{'gender': {'Woman': np.float32(1.8286122), 'Man': np.float32(98.17139)}, 'dominant_gender': 'Man', 'region': {'x': 0, 'y': 0, 'w': 639, 'h': 479, 'left_eye': None, 'right_eye': None}, 'face_confidence': 0, 'emotion': {'angry': np.float32(1.51100085e-05), 'disgust': np.float32(1.4036295e-19), 'fear': np.float32(99.94306), 'happy': np.float32(1.1523416e-11), 'sad': np.float32(1.8189075e-07), 'surprise': np.float32(0.0006178191), 'neutral': np.float32(0.05630048)}, 'dominant_emotion': 'fear'}]\n"
     ]
    },
    {
     "name": "stderr",
     "output_type": "stream",
     "text": [
      "Action: emotion: 100%|██████████| 2/2 [00:00<00:00, 11.04it/s]\n"
     ]
    },
    {
     "name": "stdout",
     "output_type": "stream",
     "text": [
      "[{'gender': {'Woman': np.float32(0.0491817), 'Man': np.float32(99.95081)}, 'dominant_gender': 'Man', 'region': {'x': 240, 'y': 129, 'w': 183, 'h': 183, 'left_eye': None, 'right_eye': None}, 'face_confidence': np.float64(0.95), 'emotion': {'angry': np.float32(3.560224), 'disgust': np.float32(2.9259769e-05), 'fear': np.float32(0.29046553), 'happy': np.float32(0.0054316944), 'sad': np.float32(21.190231), 'surprise': np.float32(9.231956e-06), 'neutral': np.float32(74.95361)}, 'dominant_emotion': 'neutral'}]\n"
     ]
    },
    {
     "name": "stderr",
     "output_type": "stream",
     "text": [
      "Action: emotion: 100%|██████████| 2/2 [00:00<00:00, 11.66it/s]\n"
     ]
    },
    {
     "name": "stdout",
     "output_type": "stream",
     "text": [
      "[{'gender': {'Woman': np.float32(0.040875383), 'Man': np.float32(99.95913)}, 'dominant_gender': 'Man', 'region': {'x': 239, 'y': 126, 'w': 185, 'h': 185, 'left_eye': None, 'right_eye': None}, 'face_confidence': np.float64(0.96), 'emotion': {'angry': np.float32(1.1552728), 'disgust': np.float32(2.827545e-06), 'fear': np.float32(0.16825609), 'happy': np.float32(0.0019938247), 'sad': np.float32(13.601578), 'surprise': np.float32(1.1521298e-06), 'neutral': np.float32(85.0729)}, 'dominant_emotion': 'neutral'}]\n"
     ]
    },
    {
     "name": "stderr",
     "output_type": "stream",
     "text": [
      "Action: emotion: 100%|██████████| 2/2 [00:00<00:00, 14.69it/s]\n"
     ]
    },
    {
     "name": "stdout",
     "output_type": "stream",
     "text": [
      "[{'gender': {'Woman': np.float32(0.06886392), 'Man': np.float32(99.93113)}, 'dominant_gender': 'Man', 'region': {'x': 247, 'y': 121, 'w': 179, 'h': 179, 'left_eye': (373, 189), 'right_eye': (295, 185)}, 'face_confidence': np.float64(0.96), 'emotion': {'angry': np.float32(1.6204449), 'disgust': np.float32(2.856741e-06), 'fear': np.float32(0.050456427), 'happy': np.float32(0.0039920486), 'sad': np.float32(4.4521127), 'surprise': np.float32(1.3524959e-05), 'neutral': np.float32(93.872986)}, 'dominant_emotion': 'neutral'}]\n"
     ]
    },
    {
     "name": "stderr",
     "output_type": "stream",
     "text": [
      "Action: emotion: 100%|██████████| 2/2 [00:00<00:00, 14.27it/s]\n"
     ]
    },
    {
     "name": "stdout",
     "output_type": "stream",
     "text": [
      "[{'gender': {'Woman': np.float32(2.760766), 'Man': np.float32(97.239235)}, 'dominant_gender': 'Man', 'region': {'x': 0, 'y': 0, 'w': 639, 'h': 479, 'left_eye': None, 'right_eye': None}, 'face_confidence': 0, 'emotion': {'angry': np.float32(2.1647468e-06), 'disgust': np.float32(5.3063483e-25), 'fear': np.float32(0.020658324), 'happy': np.float32(1.4949587e-13), 'sad': np.float32(4.4141816e-05), 'surprise': np.float32(2.1893012e-08), 'neutral': np.float32(99.9793)}, 'dominant_emotion': 'neutral'}]\n"
     ]
    },
    {
     "name": "stderr",
     "output_type": "stream",
     "text": [
      "Action: emotion: 100%|██████████| 2/2 [00:00<00:00, 14.47it/s]\n"
     ]
    },
    {
     "name": "stdout",
     "output_type": "stream",
     "text": [
      "[{'gender': {'Woman': np.float32(0.22151276), 'Man': np.float32(99.77849)}, 'dominant_gender': 'Man', 'region': {'x': 259, 'y': 124, 'w': 170, 'h': 170, 'left_eye': None, 'right_eye': None}, 'face_confidence': np.float64(0.96), 'emotion': {'angry': np.float32(11.404569), 'disgust': np.float32(0.0032963639), 'fear': np.float32(1.0519426), 'happy': np.float32(0.22215007), 'sad': np.float32(13.003802), 'surprise': np.float32(0.0040945853), 'neutral': np.float32(74.31015)}, 'dominant_emotion': 'neutral'}]\n"
     ]
    },
    {
     "name": "stderr",
     "output_type": "stream",
     "text": [
      "Action: emotion: 100%|██████████| 2/2 [00:00<00:00, 14.54it/s]\n"
     ]
    },
    {
     "name": "stdout",
     "output_type": "stream",
     "text": [
      "[{'gender': {'Woman': np.float32(2.868881), 'Man': np.float32(97.13112)}, 'dominant_gender': 'Man', 'region': {'x': 0, 'y': 0, 'w': 639, 'h': 479, 'left_eye': None, 'right_eye': None}, 'face_confidence': 0, 'emotion': {'angry': np.float32(18.127546), 'disgust': np.float32(6.095089e-14), 'fear': np.float32(80.119965), 'happy': np.float32(2.961673e-10), 'sad': np.float32(0.024121212), 'surprise': np.float32(9.108469e-08), 'neutral': np.float32(1.7283784)}, 'dominant_emotion': 'fear'}]\n"
     ]
    },
    {
     "name": "stderr",
     "output_type": "stream",
     "text": [
      "Action: emotion: 100%|██████████| 2/2 [00:00<00:00, 14.48it/s]\n"
     ]
    },
    {
     "name": "stdout",
     "output_type": "stream",
     "text": [
      "[{'gender': {'Woman': np.float32(2.394074), 'Man': np.float32(97.605934)}, 'dominant_gender': 'Man', 'region': {'x': 0, 'y': 0, 'w': 639, 'h': 479, 'left_eye': None, 'right_eye': None}, 'face_confidence': 0, 'emotion': {'angry': np.float32(0.039159354), 'disgust': np.float32(5.0774016e-19), 'fear': np.float32(36.618706), 'happy': np.float32(1.584775e-10), 'sad': np.float32(0.00016109068), 'surprise': np.float32(1.5500256e-06), 'neutral': np.float32(63.341976)}, 'dominant_emotion': 'neutral'}]\n"
     ]
    },
    {
     "name": "stderr",
     "output_type": "stream",
     "text": [
      "Action: emotion: 100%|██████████| 2/2 [00:00<00:00, 14.69it/s]\n"
     ]
    },
    {
     "name": "stdout",
     "output_type": "stream",
     "text": [
      "[{'gender': {'Woman': np.float32(2.3484113), 'Man': np.float32(97.65158)}, 'dominant_gender': 'Man', 'region': {'x': 0, 'y': 0, 'w': 639, 'h': 479, 'left_eye': None, 'right_eye': None}, 'face_confidence': 0, 'emotion': {'angry': np.float32(1.2780248), 'disgust': np.float32(5.0081234e-15), 'fear': np.float32(78.06132), 'happy': np.float32(8.871189e-10), 'sad': np.float32(0.0045966962), 'surprise': np.float32(2.1746173e-06), 'neutral': np.float32(20.656069)}, 'dominant_emotion': 'fear'}]\n"
     ]
    },
    {
     "name": "stderr",
     "output_type": "stream",
     "text": [
      "Action: emotion: 100%|██████████| 2/2 [00:00<00:00, 14.16it/s]\n"
     ]
    },
    {
     "name": "stdout",
     "output_type": "stream",
     "text": [
      "[{'gender': {'Woman': np.float32(2.3301136), 'Man': np.float32(97.66989)}, 'dominant_gender': 'Man', 'region': {'x': 0, 'y': 0, 'w': 639, 'h': 479, 'left_eye': None, 'right_eye': None}, 'face_confidence': 0, 'emotion': {'angry': np.float32(3.911155), 'disgust': np.float32(7.9852974e-14), 'fear': np.float32(72.44532), 'happy': np.float32(2.8964127e-09), 'sad': np.float32(0.007658889), 'surprise': np.float32(1.7854553e-06), 'neutral': np.float32(23.635866)}, 'dominant_emotion': 'fear'}]\n"
     ]
    },
    {
     "name": "stderr",
     "output_type": "stream",
     "text": [
      "Action: emotion: 100%|██████████| 2/2 [00:00<00:00, 14.13it/s]\n"
     ]
    },
    {
     "name": "stdout",
     "output_type": "stream",
     "text": [
      "[{'gender': {'Woman': np.float32(2.3281732), 'Man': np.float32(97.67182)}, 'dominant_gender': 'Man', 'region': {'x': 0, 'y': 0, 'w': 639, 'h': 479, 'left_eye': None, 'right_eye': None}, 'face_confidence': 0, 'emotion': {'angry': np.float32(7.5487127), 'disgust': np.float32(1.9583235e-13), 'fear': np.float32(64.60995), 'happy': np.float32(3.7273478e-09), 'sad': np.float32(0.020510627), 'surprise': np.float32(1.0134872e-06), 'neutral': np.float32(27.820831)}, 'dominant_emotion': 'fear'}]\n"
     ]
    },
    {
     "name": "stderr",
     "output_type": "stream",
     "text": [
      "Action: emotion: 100%|██████████| 2/2 [00:00<00:00, 14.44it/s]\n"
     ]
    },
    {
     "name": "stdout",
     "output_type": "stream",
     "text": [
      "[{'gender': {'Woman': np.float32(2.447598), 'Man': np.float32(97.5524)}, 'dominant_gender': 'Man', 'region': {'x': 0, 'y': 0, 'w': 639, 'h': 479, 'left_eye': None, 'right_eye': None}, 'face_confidence': 0, 'emotion': {'angry': np.float32(0.5566118), 'disgust': np.float32(3.7483846e-15), 'fear': np.float32(80.52093), 'happy': np.float32(4.72025e-09), 'sad': np.float32(0.0011803035), 'surprise': np.float32(2.166506e-06), 'neutral': np.float32(18.921282)}, 'dominant_emotion': 'fear'}]\n"
     ]
    },
    {
     "name": "stderr",
     "output_type": "stream",
     "text": [
      "Action: emotion: 100%|██████████| 2/2 [00:00<00:00, 14.54it/s]\n"
     ]
    },
    {
     "name": "stdout",
     "output_type": "stream",
     "text": [
      "[{'gender': {'Woman': np.float32(2.4369752), 'Man': np.float32(97.56302)}, 'dominant_gender': 'Man', 'region': {'x': 0, 'y': 0, 'w': 639, 'h': 479, 'left_eye': None, 'right_eye': None}, 'face_confidence': 0, 'emotion': {'angry': np.float32(0.0047960225), 'disgust': np.float32(1.1926405e-19), 'fear': np.float32(99.25572), 'happy': np.float32(1.0901286e-11), 'sad': np.float32(2.8932877e-06), 'surprise': np.float32(4.3497283e-07), 'neutral': np.float32(0.7394856)}, 'dominant_emotion': 'fear'}]\n"
     ]
    },
    {
     "name": "stderr",
     "output_type": "stream",
     "text": [
      "Action: emotion: 100%|██████████| 2/2 [00:00<00:00, 14.33it/s]\n"
     ]
    },
    {
     "name": "stdout",
     "output_type": "stream",
     "text": [
      "[{'gender': {'Woman': np.float32(3.317635), 'Man': np.float32(96.68237)}, 'dominant_gender': 'Man', 'region': {'x': 0, 'y': 0, 'w': 639, 'h': 479, 'left_eye': None, 'right_eye': None}, 'face_confidence': 0, 'emotion': {'angry': np.float32(0.030948212), 'disgust': np.float32(2.4544168e-17), 'fear': np.float32(82.33145), 'happy': np.float32(5.0718068e-08), 'sad': np.float32(1.3655081e-05), 'surprise': np.float32(0.00031029244), 'neutral': np.float32(17.637283)}, 'dominant_emotion': 'fear'}]\n"
     ]
    },
    {
     "name": "stderr",
     "output_type": "stream",
     "text": [
      "Action: emotion: 100%|██████████| 2/2 [00:00<00:00, 13.93it/s]\n"
     ]
    },
    {
     "name": "stdout",
     "output_type": "stream",
     "text": [
      "[{'gender': {'Woman': np.float32(4.017777), 'Man': np.float32(95.982216)}, 'dominant_gender': 'Man', 'region': {'x': 0, 'y': 0, 'w': 639, 'h': 479, 'left_eye': None, 'right_eye': None}, 'face_confidence': 0, 'emotion': {'angry': np.float32(2.8813022e-07), 'disgust': np.float32(6.1943087e-30), 'fear': np.float32(2.3820312), 'happy': np.float32(2.7072816e-10), 'sad': np.float32(2.242572e-09), 'surprise': np.float32(2.5406365e-07), 'neutral': np.float32(97.61797)}, 'dominant_emotion': 'neutral'}]\n"
     ]
    },
    {
     "name": "stderr",
     "output_type": "stream",
     "text": [
      "Action: emotion: 100%|██████████| 2/2 [00:00<00:00, 14.09it/s]\n"
     ]
    },
    {
     "name": "stdout",
     "output_type": "stream",
     "text": [
      "[{'gender': {'Woman': np.float32(0.061100885), 'Man': np.float32(99.938896)}, 'dominant_gender': 'Man', 'region': {'x': 270, 'y': 104, 'w': 181, 'h': 181, 'left_eye': None, 'right_eye': None}, 'face_confidence': np.float64(0.97), 'emotion': {'angry': np.float32(7.395778), 'disgust': np.float32(0.1491289), 'fear': np.float32(2.001487), 'happy': np.float32(0.21581228), 'sad': np.float32(74.576614), 'surprise': np.float32(0.0012664252), 'neutral': np.float32(15.659919)}, 'dominant_emotion': 'sad'}]\n"
     ]
    },
    {
     "name": "stderr",
     "output_type": "stream",
     "text": [
      "Action: emotion: 100%|██████████| 2/2 [00:00<00:00, 14.17it/s]\n"
     ]
    },
    {
     "name": "stdout",
     "output_type": "stream",
     "text": [
      "[{'gender': {'Woman': np.float32(4.517173), 'Man': np.float32(95.482834)}, 'dominant_gender': 'Man', 'region': {'x': 0, 'y': 0, 'w': 639, 'h': 479, 'left_eye': None, 'right_eye': None}, 'face_confidence': 0, 'emotion': {'angry': np.float32(0.00056868047), 'disgust': np.float32(1.7025218e-09), 'fear': np.float32(91.30913), 'happy': np.float32(0.008146513), 'sad': np.float32(0.28304613), 'surprise': np.float32(2.1593074e-08), 'neutral': np.float32(8.399109)}, 'dominant_emotion': 'fear'}]\n"
     ]
    },
    {
     "name": "stderr",
     "output_type": "stream",
     "text": [
      "Action: emotion: 100%|██████████| 2/2 [00:00<00:00, 14.42it/s]\n"
     ]
    },
    {
     "name": "stdout",
     "output_type": "stream",
     "text": [
      "[{'gender': {'Woman': np.float32(4.5858264), 'Man': np.float32(95.41418)}, 'dominant_gender': 'Man', 'region': {'x': 0, 'y': 0, 'w': 639, 'h': 479, 'left_eye': None, 'right_eye': None}, 'face_confidence': 0, 'emotion': {'angry': np.float32(1.1875377e-05), 'disgust': np.float32(4.164748e-13), 'fear': np.float32(53.054775), 'happy': np.float32(0.00042032797), 'sad': np.float32(0.0033598212), 'surprise': np.float32(4.8050502e-08), 'neutral': np.float32(46.94143)}, 'dominant_emotion': 'fear'}]\n"
     ]
    },
    {
     "name": "stderr",
     "output_type": "stream",
     "text": [
      "Action: emotion: 100%|██████████| 2/2 [00:00<00:00, 14.46it/s]\n"
     ]
    },
    {
     "name": "stdout",
     "output_type": "stream",
     "text": [
      "[{'gender': {'Woman': np.float32(5.0267167), 'Man': np.float32(94.97328)}, 'dominant_gender': 'Man', 'region': {'x': 0, 'y': 0, 'w': 639, 'h': 479, 'left_eye': None, 'right_eye': None}, 'face_confidence': 0, 'emotion': {'angry': np.float32(0.00010107994), 'disgust': np.float32(2.905795e-11), 'fear': np.float32(79.23897), 'happy': np.float32(0.0013559703), 'sad': np.float32(0.034052167), 'surprise': np.float32(9.465007e-08), 'neutral': np.float32(20.725525)}, 'dominant_emotion': 'fear'}]\n"
     ]
    },
    {
     "name": "stderr",
     "output_type": "stream",
     "text": [
      "Action: emotion: 100%|██████████| 2/2 [00:00<00:00, 13.15it/s]\n"
     ]
    },
    {
     "name": "stdout",
     "output_type": "stream",
     "text": [
      "[{'gender': {'Woman': np.float32(4.90091), 'Man': np.float32(95.09909)}, 'dominant_gender': 'Man', 'region': {'x': 0, 'y': 0, 'w': 639, 'h': 479, 'left_eye': None, 'right_eye': None}, 'face_confidence': 0, 'emotion': {'angry': np.float32(5.345476e-07), 'disgust': np.float32(3.493596e-17), 'fear': np.float32(99.68377), 'happy': np.float32(5.1623566e-08), 'sad': np.float32(4.2343134e-05), 'surprise': np.float32(5.000688e-07), 'neutral': np.float32(0.31619352)}, 'dominant_emotion': 'fear'}]\n"
     ]
    },
    {
     "name": "stderr",
     "output_type": "stream",
     "text": [
      "Action: emotion: 100%|██████████| 2/2 [00:00<00:00, 13.33it/s]\n"
     ]
    },
    {
     "name": "stdout",
     "output_type": "stream",
     "text": [
      "[{'gender': {'Woman': np.float32(4.687754), 'Man': np.float32(95.31224)}, 'dominant_gender': 'Man', 'region': {'x': 0, 'y': 0, 'w': 639, 'h': 479, 'left_eye': None, 'right_eye': None}, 'face_confidence': 0, 'emotion': {'angry': np.float32(4.800694e-07), 'disgust': np.float32(3.654881e-17), 'fear': np.float32(99.91109), 'happy': np.float32(2.4445423e-08), 'sad': np.float32(1.50640035e-05), 'surprise': np.float32(4.38261e-07), 'neutral': np.float32(0.088895425)}, 'dominant_emotion': 'fear'}]\n"
     ]
    },
    {
     "name": "stderr",
     "output_type": "stream",
     "text": [
      "Action: emotion: 100%|██████████| 2/2 [00:00<00:00, 14.47it/s]\n"
     ]
    },
    {
     "name": "stdout",
     "output_type": "stream",
     "text": [
      "[{'gender': {'Woman': np.float32(4.5037518), 'Man': np.float32(95.49625)}, 'dominant_gender': 'Man', 'region': {'x': 0, 'y': 0, 'w': 639, 'h': 479, 'left_eye': None, 'right_eye': None}, 'face_confidence': 0, 'emotion': {'angry': np.float32(1.2718602e-06), 'disgust': np.float32(8.004701e-17), 'fear': np.float32(99.93121), 'happy': np.float32(1.1523101e-08), 'sad': np.float32(2.0056905e-05), 'surprise': np.float32(3.334283e-07), 'neutral': np.float32(0.068769306)}, 'dominant_emotion': 'fear'}]\n"
     ]
    },
    {
     "name": "stderr",
     "output_type": "stream",
     "text": [
      "Action: emotion: 100%|██████████| 2/2 [00:00<00:00, 14.48it/s]\n"
     ]
    },
    {
     "name": "stdout",
     "output_type": "stream",
     "text": [
      "[{'gender': {'Woman': np.float32(4.606369), 'Man': np.float32(95.39363)}, 'dominant_gender': 'Man', 'region': {'x': 0, 'y': 0, 'w': 639, 'h': 479, 'left_eye': None, 'right_eye': None}, 'face_confidence': 0, 'emotion': {'angry': np.float32(2.1135882e-06), 'disgust': np.float32(1.4767734e-16), 'fear': np.float32(99.908005), 'happy': np.float32(1.4202859e-08), 'sad': np.float32(5.4897457e-05), 'surprise': np.float32(1.284114e-07), 'neutral': np.float32(0.09194836)}, 'dominant_emotion': 'fear'}]\n"
     ]
    },
    {
     "name": "stderr",
     "output_type": "stream",
     "text": [
      "Action: emotion: 100%|██████████| 2/2 [00:00<00:00, 14.18it/s]\n"
     ]
    },
    {
     "name": "stdout",
     "output_type": "stream",
     "text": [
      "[{'gender': {'Woman': np.float32(3.8488157), 'Man': np.float32(96.151184)}, 'dominant_gender': 'Man', 'region': {'x': 0, 'y': 0, 'w': 639, 'h': 479, 'left_eye': None, 'right_eye': None}, 'face_confidence': 0, 'emotion': {'angry': np.float32(5.695111e-07), 'disgust': np.float32(1.195236e-15), 'fear': np.float32(99.55999), 'happy': np.float32(5.942627e-07), 'sad': np.float32(6.8683774e-05), 'surprise': np.float32(2.3323532e-06), 'neutral': np.float32(0.4399397)}, 'dominant_emotion': 'fear'}]\n"
     ]
    },
    {
     "name": "stderr",
     "output_type": "stream",
     "text": [
      "Action: emotion: 100%|██████████| 2/2 [00:00<00:00, 14.06it/s]\n"
     ]
    },
    {
     "name": "stdout",
     "output_type": "stream",
     "text": [
      "[{'gender': {'Woman': np.float32(4.351144), 'Man': np.float32(95.64885)}, 'dominant_gender': 'Man', 'region': {'x': 0, 'y': 0, 'w': 639, 'h': 479, 'left_eye': None, 'right_eye': None}, 'face_confidence': 0, 'emotion': {'angry': np.float32(1.1657397e-06), 'disgust': np.float32(6.0077183e-16), 'fear': np.float32(93.94288), 'happy': np.float32(6.959145e-07), 'sad': np.float32(0.0005647586), 'surprise': np.float32(1.623143e-07), 'neutral': np.float32(6.056558)}, 'dominant_emotion': 'fear'}]\n"
     ]
    },
    {
     "name": "stderr",
     "output_type": "stream",
     "text": [
      "Action: emotion: 100%|██████████| 2/2 [00:00<00:00, 14.07it/s]\n"
     ]
    },
    {
     "name": "stdout",
     "output_type": "stream",
     "text": [
      "[{'gender': {'Woman': np.float32(3.686316), 'Man': np.float32(96.31368)}, 'dominant_gender': 'Man', 'region': {'x': 0, 'y': 0, 'w': 639, 'h': 479, 'left_eye': None, 'right_eye': None}, 'face_confidence': 0, 'emotion': {'angry': np.float32(4.077566e-05), 'disgust': np.float32(1.2099052e-13), 'fear': np.float32(99.88235), 'happy': np.float32(1.1790095e-05), 'sad': np.float32(4.128668e-06), 'surprise': np.float32(1.19662855e-05), 'neutral': np.float32(0.11758274)}, 'dominant_emotion': 'fear'}]\n"
     ]
    },
    {
     "name": "stderr",
     "output_type": "stream",
     "text": [
      "Action: emotion: 100%|██████████| 2/2 [00:00<00:00, 12.42it/s]\n"
     ]
    },
    {
     "name": "stdout",
     "output_type": "stream",
     "text": [
      "[{'gender': {'Woman': np.float32(4.237651), 'Man': np.float32(95.762344)}, 'dominant_gender': 'Man', 'region': {'x': 0, 'y': 0, 'w': 639, 'h': 479, 'left_eye': None, 'right_eye': None}, 'face_confidence': 0, 'emotion': {'angry': np.float32(0.000113904935), 'disgust': np.float32(7.201932e-25), 'fear': np.float32(41.786545), 'happy': np.float32(1.7049142e-11), 'sad': np.float32(1.8550194e-05), 'surprise': np.float32(9.260402e-06), 'neutral': np.float32(58.21331)}, 'dominant_emotion': 'neutral'}]\n"
     ]
    },
    {
     "name": "stderr",
     "output_type": "stream",
     "text": [
      "Action: emotion: 100%|██████████| 2/2 [00:00<00:00, 14.64it/s]\n"
     ]
    },
    {
     "name": "stdout",
     "output_type": "stream",
     "text": [
      "[{'gender': {'Woman': np.float32(3.900291), 'Man': np.float32(96.09971)}, 'dominant_gender': 'Man', 'region': {'x': 0, 'y': 0, 'w': 639, 'h': 479, 'left_eye': None, 'right_eye': None}, 'face_confidence': 0, 'emotion': {'angry': np.float32(0.9954072), 'disgust': np.float32(5.14877e-16), 'fear': np.float32(2.643894), 'happy': np.float32(6.2150076e-09), 'sad': np.float32(0.016131904), 'surprise': np.float32(2.8021012e-05), 'neutral': np.float32(96.344536)}, 'dominant_emotion': 'neutral'}]\n"
     ]
    },
    {
     "name": "stderr",
     "output_type": "stream",
     "text": [
      "Action: emotion: 100%|██████████| 2/2 [00:00<00:00, 10.75it/s]\n"
     ]
    },
    {
     "name": "stdout",
     "output_type": "stream",
     "text": [
      "[{'gender': {'Woman': np.float32(0.012843795), 'Man': np.float32(99.98715)}, 'dominant_gender': 'Man', 'region': {'x': 155, 'y': 119, 'w': 188, 'h': 188, 'left_eye': (286, 187), 'right_eye': (216, 189)}, 'face_confidence': np.float64(0.94), 'emotion': {'angry': np.float32(1.7049118), 'disgust': np.float32(9.441258e-05), 'fear': np.float32(0.35342613), 'happy': np.float32(0.3778418), 'sad': np.float32(8.990519), 'surprise': np.float32(0.00089677883), 'neutral': np.float32(88.57231)}, 'dominant_emotion': 'neutral'}]\n"
     ]
    },
    {
     "name": "stderr",
     "output_type": "stream",
     "text": [
      "Action: emotion: 100%|██████████| 2/2 [00:00<00:00, 13.69it/s]\n"
     ]
    },
    {
     "name": "stdout",
     "output_type": "stream",
     "text": [
      "[{'gender': {'Woman': np.float32(0.01622456), 'Man': np.float32(99.98377)}, 'dominant_gender': 'Man', 'region': {'x': 157, 'y': 122, 'w': 187, 'h': 187, 'left_eye': None, 'right_eye': None}, 'face_confidence': np.float64(0.93), 'emotion': {'angry': np.float32(4.592362), 'disgust': np.float32(0.00013321654), 'fear': np.float32(0.5169296), 'happy': np.float32(0.048249494), 'sad': np.float32(16.015448), 'surprise': np.float32(7.5261974e-05), 'neutral': np.float32(78.826805)}, 'dominant_emotion': 'neutral'}]\n"
     ]
    },
    {
     "name": "stderr",
     "output_type": "stream",
     "text": [
      "Action: emotion: 100%|██████████| 2/2 [00:00<00:00, 14.23it/s]\n"
     ]
    },
    {
     "name": "stdout",
     "output_type": "stream",
     "text": [
      "[{'gender': {'Woman': np.float32(3.7879739), 'Man': np.float32(96.21202)}, 'dominant_gender': 'Man', 'region': {'x': 0, 'y': 0, 'w': 639, 'h': 479, 'left_eye': None, 'right_eye': None}, 'face_confidence': 0, 'emotion': {'angry': np.float32(0.5315118), 'disgust': np.float32(1.3202059e-18), 'fear': np.float32(0.6661557), 'happy': np.float32(1.3350229e-09), 'sad': np.float32(0.00069619005), 'surprise': np.float32(0.0017130364), 'neutral': np.float32(98.79992)}, 'dominant_emotion': 'neutral'}]\n"
     ]
    },
    {
     "name": "stderr",
     "output_type": "stream",
     "text": [
      "Action: emotion: 100%|██████████| 2/2 [00:00<00:00, 13.69it/s]\n"
     ]
    },
    {
     "name": "stdout",
     "output_type": "stream",
     "text": [
      "[{'gender': {'Woman': np.float32(3.0970507), 'Man': np.float32(96.90295)}, 'dominant_gender': 'Man', 'region': {'x': 0, 'y': 0, 'w': 639, 'h': 479, 'left_eye': None, 'right_eye': None}, 'face_confidence': 0, 'emotion': {'angry': np.float32(3.1289115), 'disgust': np.float32(5.340508e-19), 'fear': np.float32(82.12452), 'happy': np.float32(2.444221e-13), 'sad': np.float32(0.041989245), 'surprise': np.float32(4.1294484e-07), 'neutral': np.float32(14.704579)}, 'dominant_emotion': 'fear'}]\n"
     ]
    },
    {
     "name": "stderr",
     "output_type": "stream",
     "text": [
      "Action: emotion: 100%|██████████| 2/2 [00:00<00:00, 14.17it/s]\n"
     ]
    },
    {
     "name": "stdout",
     "output_type": "stream",
     "text": [
      "[{'gender': {'Woman': np.float32(3.0790503), 'Man': np.float32(96.92095)}, 'dominant_gender': 'Man', 'region': {'x': 0, 'y': 0, 'w': 639, 'h': 479, 'left_eye': None, 'right_eye': None}, 'face_confidence': 0, 'emotion': {'angry': np.float32(1.2900019e-06), 'disgust': np.float32(1.0202353e-15), 'fear': np.float32(92.30015), 'happy': np.float32(3.9057646e-08), 'sad': np.float32(0.0015697554), 'surprise': np.float32(2.969117e-08), 'neutral': np.float32(7.6982846)}, 'dominant_emotion': 'fear'}]\n"
     ]
    },
    {
     "name": "stderr",
     "output_type": "stream",
     "text": [
      "Action: emotion: 100%|██████████| 2/2 [00:00<00:00, 13.81it/s]\n"
     ]
    },
    {
     "name": "stdout",
     "output_type": "stream",
     "text": [
      "[{'gender': {'Woman': np.float32(3.7283566), 'Man': np.float32(96.27165)}, 'dominant_gender': 'Man', 'region': {'x': 0, 'y': 0, 'w': 639, 'h': 479, 'left_eye': None, 'right_eye': None}, 'face_confidence': 0, 'emotion': {'angry': np.float32(5.456555e-12), 'disgust': np.float32(5.776718e-24), 'fear': np.float32(43.363895), 'happy': np.float32(8.6432755e-10), 'sad': np.float32(6.0440343e-06), 'surprise': np.float32(6.093435e-07), 'neutral': np.float32(56.636093)}, 'dominant_emotion': 'neutral'}]\n"
     ]
    },
    {
     "name": "stderr",
     "output_type": "stream",
     "text": [
      "Action: emotion: 100%|██████████| 2/2 [00:00<00:00, 13.45it/s]\n"
     ]
    },
    {
     "name": "stdout",
     "output_type": "stream",
     "text": [
      "[{'gender': {'Woman': np.float32(4.617316), 'Man': np.float32(95.38269)}, 'dominant_gender': 'Man', 'region': {'x': 0, 'y': 0, 'w': 639, 'h': 479, 'left_eye': None, 'right_eye': None}, 'face_confidence': 0, 'emotion': {'angry': np.float32(1.606673e-14), 'disgust': np.float32(1.4250895e-23), 'fear': np.float32(46.982147), 'happy': np.float32(3.8971035e-07), 'sad': np.float32(9.4258166e-07), 'surprise': np.float32(2.0592315e-06), 'neutral': np.float32(53.017853)}, 'dominant_emotion': 'neutral'}]\n"
     ]
    },
    {
     "name": "stderr",
     "output_type": "stream",
     "text": [
      "Action: emotion: 100%|██████████| 2/2 [00:00<00:00, 13.65it/s]\n"
     ]
    },
    {
     "name": "stdout",
     "output_type": "stream",
     "text": [
      "[{'gender': {'Woman': np.float32(4.280929), 'Man': np.float32(95.71908)}, 'dominant_gender': 'Man', 'region': {'x': 0, 'y': 0, 'w': 639, 'h': 479, 'left_eye': None, 'right_eye': None}, 'face_confidence': 0, 'emotion': {'angry': np.float32(2.7808681e-14), 'disgust': np.float32(4.8065932e-23), 'fear': np.float32(24.838036), 'happy': np.float32(9.374467e-08), 'sad': np.float32(1.1204226e-06), 'surprise': np.float32(2.0713247e-07), 'neutral': np.float32(75.161964)}, 'dominant_emotion': 'neutral'}]\n"
     ]
    },
    {
     "name": "stderr",
     "output_type": "stream",
     "text": [
      "Action: emotion: 100%|██████████| 2/2 [00:00<00:00, 13.65it/s]\n"
     ]
    },
    {
     "name": "stdout",
     "output_type": "stream",
     "text": [
      "[{'gender': {'Woman': np.float32(3.624465), 'Man': np.float32(96.37554)}, 'dominant_gender': 'Man', 'region': {'x': 0, 'y': 0, 'w': 639, 'h': 479, 'left_eye': None, 'right_eye': None}, 'face_confidence': 0, 'emotion': {'angry': np.float32(1.7802587e-13), 'disgust': np.float32(9.9595936e-23), 'fear': np.float32(1.4752824), 'happy': np.float32(3.889268e-08), 'sad': np.float32(4.7146623e-06), 'surprise': np.float32(2.6556165e-08), 'neutral': np.float32(98.52471)}, 'dominant_emotion': 'neutral'}]\n"
     ]
    },
    {
     "name": "stderr",
     "output_type": "stream",
     "text": [
      "Action: emotion: 100%|██████████| 2/2 [00:00<00:00, 13.93it/s]\n"
     ]
    },
    {
     "name": "stdout",
     "output_type": "stream",
     "text": [
      "[{'gender': {'Woman': np.float32(3.2973804), 'Man': np.float32(96.702614)}, 'dominant_gender': 'Man', 'region': {'x': 0, 'y': 0, 'w': 639, 'h': 479, 'left_eye': None, 'right_eye': None}, 'face_confidence': 0, 'emotion': {'angry': np.float32(2.096479e-06), 'disgust': np.float32(2.6043452e-11), 'fear': np.float32(0.211373), 'happy': np.float32(0.0064429543), 'sad': np.float32(0.0018326326), 'surprise': np.float32(1.1854853e-07), 'neutral': np.float32(99.78035)}, 'dominant_emotion': 'neutral'}]\n"
     ]
    },
    {
     "name": "stderr",
     "output_type": "stream",
     "text": [
      "Action: emotion: 100%|██████████| 2/2 [00:00<00:00, 13.59it/s]\n"
     ]
    },
    {
     "name": "stdout",
     "output_type": "stream",
     "text": [
      "[{'gender': {'Woman': np.float32(3.2846398), 'Man': np.float32(96.71536)}, 'dominant_gender': 'Man', 'region': {'x': 0, 'y': 0, 'w': 639, 'h': 479, 'left_eye': None, 'right_eye': None}, 'face_confidence': 0, 'emotion': {'angry': np.float32(9.86123e-07), 'disgust': np.float32(5.6619817e-12), 'fear': np.float32(0.00025944214), 'happy': np.float32(0.24104403), 'sad': np.float32(0.00013278838), 'surprise': np.float32(9.092328e-06), 'neutral': np.float32(99.75855)}, 'dominant_emotion': 'neutral'}]\n"
     ]
    },
    {
     "name": "stderr",
     "output_type": "stream",
     "text": [
      "Action: emotion: 100%|██████████| 2/2 [00:00<00:00, 14.08it/s]\n"
     ]
    },
    {
     "name": "stdout",
     "output_type": "stream",
     "text": [
      "[{'gender': {'Woman': np.float32(3.9288838), 'Man': np.float32(96.07112)}, 'dominant_gender': 'Man', 'region': {'x': 0, 'y': 0, 'w': 639, 'h': 479, 'left_eye': None, 'right_eye': None}, 'face_confidence': 0, 'emotion': {'angry': np.float32(0.11186271), 'disgust': np.float32(6.7242934e-07), 'fear': np.float32(0.0006944548), 'happy': np.float32(3.575074), 'sad': np.float32(88.58598), 'surprise': np.float32(6.363486e-10), 'neutral': np.float32(7.7263856)}, 'dominant_emotion': 'sad'}]\n"
     ]
    },
    {
     "name": "stderr",
     "output_type": "stream",
     "text": [
      "Action: emotion: 100%|██████████| 2/2 [00:00<00:00, 12.69it/s]\n"
     ]
    },
    {
     "name": "stdout",
     "output_type": "stream",
     "text": [
      "[{'gender': {'Woman': np.float32(3.9649696), 'Man': np.float32(96.03503)}, 'dominant_gender': 'Man', 'region': {'x': 0, 'y': 0, 'w': 639, 'h': 479, 'left_eye': None, 'right_eye': None}, 'face_confidence': 0, 'emotion': {'angry': np.float32(0.02294669), 'disgust': np.float32(1.2005299e-06), 'fear': np.float32(0.0015171253), 'happy': np.float32(1.7703961), 'sad': np.float32(64.86995), 'surprise': np.float32(2.718576e-09), 'neutral': np.float32(33.33519)}, 'dominant_emotion': 'sad'}]\n"
     ]
    },
    {
     "name": "stderr",
     "output_type": "stream",
     "text": [
      "Action: emotion: 100%|██████████| 2/2 [00:00<00:00, 13.74it/s]\n"
     ]
    },
    {
     "name": "stdout",
     "output_type": "stream",
     "text": [
      "[{'gender': {'Woman': np.float32(3.6361992), 'Man': np.float32(96.36381)}, 'dominant_gender': 'Man', 'region': {'x': 0, 'y': 0, 'w': 639, 'h': 479, 'left_eye': None, 'right_eye': None}, 'face_confidence': 0, 'emotion': {'angry': np.float32(0.006894708), 'disgust': np.float32(1.4772017e-09), 'fear': np.float32(0.028124629), 'happy': np.float32(0.17261341), 'sad': np.float32(99.78064), 'surprise': np.float32(5.5778494e-12), 'neutral': np.float32(0.0117276795)}, 'dominant_emotion': 'sad'}]\n"
     ]
    },
    {
     "name": "stderr",
     "output_type": "stream",
     "text": [
      "Action: emotion: 100%|██████████| 2/2 [00:00<00:00, 13.93it/s]\n"
     ]
    },
    {
     "name": "stdout",
     "output_type": "stream",
     "text": [
      "[{'gender': {'Woman': np.float32(3.5968726), 'Man': np.float32(96.40313)}, 'dominant_gender': 'Man', 'region': {'x': 0, 'y': 0, 'w': 639, 'h': 479, 'left_eye': None, 'right_eye': None}, 'face_confidence': 0, 'emotion': {'angry': np.float32(2.7387869e-06), 'disgust': np.float32(2.3157641e-12), 'fear': np.float32(1.1133869), 'happy': np.float32(0.00078589894), 'sad': np.float32(0.020282136), 'surprise': np.float32(1.2575865e-07), 'neutral': np.float32(98.86555)}, 'dominant_emotion': 'neutral'}]\n"
     ]
    },
    {
     "name": "stderr",
     "output_type": "stream",
     "text": [
      "Action: emotion: 100%|██████████| 2/2 [00:00<00:00, 13.84it/s]\n"
     ]
    },
    {
     "name": "stdout",
     "output_type": "stream",
     "text": [
      "[{'gender': {'Woman': np.float32(3.859189), 'Man': np.float32(96.140816)}, 'dominant_gender': 'Man', 'region': {'x': 0, 'y': 0, 'w': 639, 'h': 479, 'left_eye': None, 'right_eye': None}, 'face_confidence': 0, 'emotion': {'angry': np.float32(0.014114813), 'disgust': np.float32(6.5800326e-10), 'fear': np.float32(99.26316), 'happy': np.float32(0.00014760476), 'sad': np.float32(0.02034521), 'surprise': np.float32(4.535614e-05), 'neutral': np.float32(0.7021752)}, 'dominant_emotion': 'fear'}]\n"
     ]
    },
    {
     "name": "stderr",
     "output_type": "stream",
     "text": [
      "Action: emotion: 100%|██████████| 2/2 [00:00<00:00, 14.18it/s]\n"
     ]
    },
    {
     "name": "stdout",
     "output_type": "stream",
     "text": [
      "[{'gender': {'Woman': np.float32(3.5882382), 'Man': np.float32(96.41176)}, 'dominant_gender': 'Man', 'region': {'x': 0, 'y': 0, 'w': 639, 'h': 479, 'left_eye': None, 'right_eye': None}, 'face_confidence': 0, 'emotion': {'angry': np.float32(0.020880504), 'disgust': np.float32(2.0709425e-07), 'fear': np.float32(96.838524), 'happy': np.float32(0.0069488296), 'sad': np.float32(0.28126523), 'surprise': np.float32(4.8295005e-06), 'neutral': np.float32(2.8523848)}, 'dominant_emotion': 'fear'}]\n"
     ]
    },
    {
     "name": "stderr",
     "output_type": "stream",
     "text": [
      "Action: emotion: 100%|██████████| 2/2 [00:00<00:00, 14.07it/s]\n"
     ]
    },
    {
     "name": "stdout",
     "output_type": "stream",
     "text": [
      "[{'gender': {'Woman': np.float32(3.6917746), 'Man': np.float32(96.30823)}, 'dominant_gender': 'Man', 'region': {'x': 0, 'y': 0, 'w': 639, 'h': 479, 'left_eye': None, 'right_eye': None}, 'face_confidence': 0, 'emotion': {'angry': np.float32(0.012789044), 'disgust': np.float32(3.4190055e-08), 'fear': np.float32(99.52503), 'happy': np.float32(0.00018993623), 'sad': np.float32(0.16182336), 'surprise': np.float32(1.6516161e-06), 'neutral': np.float32(0.30016118)}, 'dominant_emotion': 'fear'}]\n"
     ]
    },
    {
     "name": "stderr",
     "output_type": "stream",
     "text": [
      "Action: emotion: 100%|██████████| 2/2 [00:00<00:00, 14.26it/s]\n"
     ]
    },
    {
     "name": "stdout",
     "output_type": "stream",
     "text": [
      "[{'gender': {'Woman': np.float32(3.5372417), 'Man': np.float32(96.46276)}, 'dominant_gender': 'Man', 'region': {'x': 0, 'y': 0, 'w': 639, 'h': 479, 'left_eye': None, 'right_eye': None}, 'face_confidence': 0, 'emotion': {'angry': np.float32(0.0046408707), 'disgust': np.float32(1.9423392e-09), 'fear': np.float32(99.78584), 'happy': np.float32(1.40604325e-05), 'sad': np.float32(0.075142), 'surprise': np.float32(1.8091224e-06), 'neutral': np.float32(0.13435665)}, 'dominant_emotion': 'fear'}]\n"
     ]
    },
    {
     "name": "stderr",
     "output_type": "stream",
     "text": [
      "Action: emotion: 100%|██████████| 2/2 [00:00<00:00, 13.59it/s]\n"
     ]
    },
    {
     "name": "stdout",
     "output_type": "stream",
     "text": [
      "[{'gender': {'Woman': np.float32(3.3177304), 'Man': np.float32(96.68227)}, 'dominant_gender': 'Man', 'region': {'x': 0, 'y': 0, 'w': 639, 'h': 479, 'left_eye': None, 'right_eye': None}, 'face_confidence': 0, 'emotion': {'angry': np.float32(0.0021583224), 'disgust': np.float32(7.44544e-11), 'fear': np.float32(99.882385), 'happy': np.float32(1.1683001e-06), 'sad': np.float32(0.038459163), 'surprise': np.float32(9.020952e-07), 'neutral': np.float32(0.07700097)}, 'dominant_emotion': 'fear'}]\n"
     ]
    },
    {
     "name": "stderr",
     "output_type": "stream",
     "text": [
      "Action: emotion: 100%|██████████| 2/2 [00:00<00:00, 13.81it/s]\n"
     ]
    },
    {
     "name": "stdout",
     "output_type": "stream",
     "text": [
      "[{'gender': {'Woman': np.float32(3.3271904), 'Man': np.float32(96.672806)}, 'dominant_gender': 'Man', 'region': {'x': 0, 'y': 0, 'w': 639, 'h': 479, 'left_eye': None, 'right_eye': None}, 'face_confidence': 0, 'emotion': {'angry': np.float32(0.003047047), 'disgust': np.float32(4.959456e-11), 'fear': np.float32(99.91931), 'happy': np.float32(4.6532242e-07), 'sad': np.float32(0.036291372), 'surprise': np.float32(4.990239e-07), 'neutral': np.float32(0.04134586)}, 'dominant_emotion': 'fear'}]\n"
     ]
    },
    {
     "name": "stderr",
     "output_type": "stream",
     "text": [
      "Action: emotion: 100%|██████████| 2/2 [00:00<00:00, 14.03it/s]\n"
     ]
    },
    {
     "name": "stdout",
     "output_type": "stream",
     "text": [
      "[{'gender': {'Woman': np.float32(3.6568313), 'Man': np.float32(96.34316)}, 'dominant_gender': 'Man', 'region': {'x': 0, 'y': 0, 'w': 639, 'h': 479, 'left_eye': None, 'right_eye': None}, 'face_confidence': 0, 'emotion': {'angry': np.float32(0.0009462554), 'disgust': np.float32(8.686768e-11), 'fear': np.float32(99.897), 'happy': np.float32(1.6457415e-06), 'sad': np.float32(0.0071899462), 'surprise': np.float32(5.5283194e-06), 'neutral': np.float32(0.09485816)}, 'dominant_emotion': 'fear'}]\n"
     ]
    },
    {
     "name": "stderr",
     "output_type": "stream",
     "text": [
      "Action: emotion: 100%|██████████| 2/2 [00:00<00:00, 14.00it/s]\n"
     ]
    },
    {
     "name": "stdout",
     "output_type": "stream",
     "text": [
      "[{'gender': {'Woman': np.float32(0.057303812), 'Man': np.float32(99.942696)}, 'dominant_gender': 'Man', 'region': {'x': 273, 'y': 118, 'w': 187, 'h': 187, 'left_eye': (403, 193), 'right_eye': (333, 182)}, 'face_confidence': np.float64(0.92), 'emotion': {'angry': np.float32(9.565726), 'disgust': np.float32(5.2921125e-05), 'fear': np.float32(0.36218455), 'happy': np.float32(0.0061045247), 'sad': np.float32(15.577863), 'surprise': np.float32(2.2421551e-05), 'neutral': np.float32(74.488045)}, 'dominant_emotion': 'neutral'}]\n"
     ]
    },
    {
     "name": "stderr",
     "output_type": "stream",
     "text": [
      "Action: emotion: 100%|██████████| 2/2 [00:00<00:00, 13.57it/s]\n"
     ]
    },
    {
     "name": "stdout",
     "output_type": "stream",
     "text": [
      "[{'gender': {'Woman': np.float32(0.033822313), 'Man': np.float32(99.96618)}, 'dominant_gender': 'Man', 'region': {'x': 257, 'y': 109, 'w': 188, 'h': 188, 'left_eye': (386, 188), 'right_eye': (314, 181)}, 'face_confidence': np.float64(0.95), 'emotion': {'angry': np.float32(0.5575822), 'disgust': np.float32(3.824753e-07), 'fear': np.float32(0.011246166), 'happy': np.float32(0.0001486497), 'sad': np.float32(5.9156227), 'surprise': np.float32(6.8996934e-07), 'neutral': np.float32(93.515396)}, 'dominant_emotion': 'neutral'}]\n"
     ]
    },
    {
     "name": "stderr",
     "output_type": "stream",
     "text": [
      "Action: emotion: 100%|██████████| 2/2 [00:00<00:00, 13.83it/s]\n"
     ]
    },
    {
     "name": "stdout",
     "output_type": "stream",
     "text": [
      "[{'gender': {'Woman': np.float32(0.029238883), 'Man': np.float32(99.970764)}, 'dominant_gender': 'Man', 'region': {'x': 243, 'y': 112, 'w': 184, 'h': 184, 'left_eye': (370, 186), 'right_eye': (297, 183)}, 'face_confidence': np.float64(0.94), 'emotion': {'angry': np.float32(0.1432851), 'disgust': np.float32(1.7025423e-09), 'fear': np.float32(0.0018395063), 'happy': np.float32(3.2371157e-05), 'sad': np.float32(2.0814168), 'surprise': np.float32(8.075219e-08), 'neutral': np.float32(97.77343)}, 'dominant_emotion': 'neutral'}]\n"
     ]
    },
    {
     "name": "stderr",
     "output_type": "stream",
     "text": [
      "Action: emotion: 100%|██████████| 2/2 [00:00<00:00, 13.92it/s]\n"
     ]
    },
    {
     "name": "stdout",
     "output_type": "stream",
     "text": [
      "[{'gender': {'Woman': np.float32(0.024465675), 'Man': np.float32(99.97553)}, 'dominant_gender': 'Man', 'region': {'x': 244, 'y': 117, 'w': 179, 'h': 179, 'left_eye': (367, 187), 'right_eye': (295, 183)}, 'face_confidence': np.float64(0.94), 'emotion': {'angry': np.float32(0.40227133), 'disgust': np.float32(1.8147968e-08), 'fear': np.float32(0.00797976), 'happy': np.float32(7.011837e-05), 'sad': np.float32(3.727658), 'surprise': np.float32(1.6716884e-07), 'neutral': np.float32(95.86202)}, 'dominant_emotion': 'neutral'}]\n"
     ]
    },
    {
     "name": "stderr",
     "output_type": "stream",
     "text": [
      "Action: emotion: 100%|██████████| 2/2 [00:00<00:00, 14.13it/s]\n"
     ]
    },
    {
     "name": "stdout",
     "output_type": "stream",
     "text": [
      "[{'gender': {'Woman': np.float32(0.022516204), 'Man': np.float32(99.977486)}, 'dominant_gender': 'Man', 'region': {'x': 242, 'y': 115, 'w': 184, 'h': 184, 'left_eye': (368, 187), 'right_eye': (295, 182)}, 'face_confidence': np.float64(0.95), 'emotion': {'angry': np.float32(1.4714812), 'disgust': np.float32(1.5889775e-07), 'fear': np.float32(0.023581358), 'happy': np.float32(0.000113870075), 'sad': np.float32(8.413025), 'surprise': np.float32(3.6642504e-07), 'neutral': np.float32(90.091805)}, 'dominant_emotion': 'neutral'}]\n"
     ]
    },
    {
     "name": "stderr",
     "output_type": "stream",
     "text": [
      "Action: emotion: 100%|██████████| 2/2 [00:00<00:00, 13.82it/s]\n"
     ]
    },
    {
     "name": "stdout",
     "output_type": "stream",
     "text": [
      "[{'gender': {'Woman': np.float32(0.022203136), 'Man': np.float32(99.9778)}, 'dominant_gender': 'Man', 'region': {'x': 243, 'y': 116, 'w': 182, 'h': 182, 'left_eye': (371, 189), 'right_eye': (297, 182)}, 'face_confidence': np.float64(0.95), 'emotion': {'angry': np.float32(0.6099089), 'disgust': np.float32(4.7345182e-08), 'fear': np.float32(0.06544812), 'happy': np.float32(0.00057718396), 'sad': np.float32(2.650429), 'surprise': np.float32(9.824175e-06), 'neutral': np.float32(96.67363)}, 'dominant_emotion': 'neutral'}]\n"
     ]
    },
    {
     "name": "stderr",
     "output_type": "stream",
     "text": [
      "Action: emotion: 100%|██████████| 2/2 [00:00<00:00, 13.77it/s]\n"
     ]
    },
    {
     "name": "stdout",
     "output_type": "stream",
     "text": [
      "[{'gender': {'Woman': np.float32(0.020059464), 'Man': np.float32(99.97994)}, 'dominant_gender': 'Man', 'region': {'x': 248, 'y': 116, 'w': 180, 'h': 180, 'left_eye': (373, 188), 'right_eye': (300, 182)}, 'face_confidence': np.float64(0.96), 'emotion': {'angry': np.float32(0.94224614), 'disgust': np.float32(1.0351818e-07), 'fear': np.float32(0.021634726), 'happy': np.float32(0.0001896343), 'sad': np.float32(3.348847), 'surprise': np.float32(2.00849e-06), 'neutral': np.float32(95.68708)}, 'dominant_emotion': 'neutral'}]\n"
     ]
    },
    {
     "name": "stderr",
     "output_type": "stream",
     "text": [
      "Action: emotion: 100%|██████████| 2/2 [00:00<00:00, 13.68it/s]\n"
     ]
    },
    {
     "name": "stdout",
     "output_type": "stream",
     "text": [
      "[{'gender': {'Woman': np.float32(0.018925888), 'Man': np.float32(99.98108)}, 'dominant_gender': 'Man', 'region': {'x': 248, 'y': 115, 'w': 186, 'h': 186, 'left_eye': (376, 189), 'right_eye': (303, 183)}, 'face_confidence': np.float64(0.97), 'emotion': {'angry': np.float32(2.0943494), 'disgust': np.float32(6.919558e-07), 'fear': np.float32(0.13176923), 'happy': np.float32(0.00013772253), 'sad': np.float32(16.300472), 'surprise': np.float32(2.5362015e-06), 'neutral': np.float32(81.47327)}, 'dominant_emotion': 'neutral'}]\n"
     ]
    },
    {
     "name": "stderr",
     "output_type": "stream",
     "text": [
      "Action: emotion: 100%|██████████| 2/2 [00:00<00:00, 13.30it/s]\n"
     ]
    },
    {
     "name": "stdout",
     "output_type": "stream",
     "text": [
      "[{'gender': {'Woman': np.float32(0.027840761), 'Man': np.float32(99.97216)}, 'dominant_gender': 'Man', 'region': {'x': 246, 'y': 113, 'w': 187, 'h': 187, 'left_eye': (374, 189), 'right_eye': (302, 182)}, 'face_confidence': np.float64(0.94), 'emotion': {'angry': np.float32(0.96717376), 'disgust': np.float32(1.3973703e-07), 'fear': np.float32(0.06624379), 'happy': np.float32(0.00040738305), 'sad': np.float32(6.99267), 'surprise': np.float32(1.8460257e-06), 'neutral': np.float32(91.9735)}, 'dominant_emotion': 'neutral'}]\n"
     ]
    },
    {
     "name": "stderr",
     "output_type": "stream",
     "text": [
      "Action: emotion: 100%|██████████| 2/2 [00:00<00:00, 13.59it/s]\n"
     ]
    },
    {
     "name": "stdout",
     "output_type": "stream",
     "text": [
      "[{'gender': {'Woman': np.float32(3.512543), 'Man': np.float32(96.48746)}, 'dominant_gender': 'Man', 'region': {'x': 0, 'y': 0, 'w': 639, 'h': 479, 'left_eye': None, 'right_eye': None}, 'face_confidence': 0, 'emotion': {'angry': np.float32(2.8771901e-06), 'disgust': np.float32(9.471405e-22), 'fear': np.float32(40.50469), 'happy': np.float32(7.854759e-09), 'sad': np.float32(3.3186017e-05), 'surprise': np.float32(1.0654255e-05), 'neutral': np.float32(59.495266)}, 'dominant_emotion': 'neutral'}]\n"
     ]
    },
    {
     "name": "stderr",
     "output_type": "stream",
     "text": [
      "Action: emotion: 100%|██████████| 2/2 [00:00<00:00, 13.71it/s]\n"
     ]
    },
    {
     "name": "stdout",
     "output_type": "stream",
     "text": [
      "[{'gender': {'Woman': np.float32(4.1726685), 'Man': np.float32(95.82733)}, 'dominant_gender': 'Man', 'region': {'x': 0, 'y': 0, 'w': 639, 'h': 479, 'left_eye': None, 'right_eye': None}, 'face_confidence': 0, 'emotion': {'angry': np.float32(2.0968018e-08), 'disgust': np.float32(2.004134e-21), 'fear': np.float32(82.408424), 'happy': np.float32(3.0411147e-08), 'sad': np.float32(2.284523e-06), 'surprise': np.float32(2.8166667e-05), 'neutral': np.float32(17.591547)}, 'dominant_emotion': 'fear'}]\n"
     ]
    },
    {
     "name": "stderr",
     "output_type": "stream",
     "text": [
      "Action: emotion: 100%|██████████| 2/2 [00:00<00:00, 14.08it/s]\n"
     ]
    },
    {
     "name": "stdout",
     "output_type": "stream",
     "text": [
      "[{'gender': {'Woman': np.float32(4.9833403), 'Man': np.float32(95.01666)}, 'dominant_gender': 'Man', 'region': {'x': 0, 'y': 0, 'w': 639, 'h': 479, 'left_eye': None, 'right_eye': None}, 'face_confidence': 0, 'emotion': {'angry': np.float32(1.8697233e-12), 'disgust': np.float32(1.4517401e-25), 'fear': np.float32(39.98833), 'happy': np.float32(4.3503107e-10), 'sad': np.float32(2.3052828e-06), 'surprise': np.float32(8.882734e-09), 'neutral': np.float32(60.011665)}, 'dominant_emotion': 'neutral'}]\n"
     ]
    },
    {
     "name": "stderr",
     "output_type": "stream",
     "text": [
      "Action: emotion: 100%|██████████| 2/2 [00:00<00:00, 13.74it/s]\n"
     ]
    },
    {
     "name": "stdout",
     "output_type": "stream",
     "text": [
      "[{'gender': {'Woman': np.float32(4.424301), 'Man': np.float32(95.5757)}, 'dominant_gender': 'Man', 'region': {'x': 0, 'y': 0, 'w': 639, 'h': 479, 'left_eye': None, 'right_eye': None}, 'face_confidence': 0, 'emotion': {'angry': np.float32(7.2364448e-09), 'disgust': np.float32(7.809088e-21), 'fear': np.float32(36.20717), 'happy': np.float32(1.2466029e-07), 'sad': np.float32(9.427575e-06), 'surprise': np.float32(1.5150502e-07), 'neutral': np.float32(63.79282)}, 'dominant_emotion': 'neutral'}]\n"
     ]
    },
    {
     "name": "stderr",
     "output_type": "stream",
     "text": [
      "Action: emotion: 100%|██████████| 2/2 [00:00<00:00, 11.19it/s]\n"
     ]
    },
    {
     "name": "stdout",
     "output_type": "stream",
     "text": [
      "[{'gender': {'Woman': np.float32(3.011032), 'Man': np.float32(96.98897)}, 'dominant_gender': 'Man', 'region': {'x': 0, 'y': 0, 'w': 639, 'h': 479, 'left_eye': None, 'right_eye': None}, 'face_confidence': 0, 'emotion': {'angry': np.float32(0.025923973), 'disgust': np.float32(4.8365183e-07), 'fear': np.float32(24.3729), 'happy': np.float32(0.021815924), 'sad': np.float32(2.735748), 'surprise': np.float32(1.022035e-07), 'neutral': np.float32(72.84362)}, 'dominant_emotion': 'neutral'}]\n"
     ]
    },
    {
     "name": "stderr",
     "output_type": "stream",
     "text": [
      "Action: emotion: 100%|██████████| 2/2 [00:00<00:00, 13.24it/s]\n"
     ]
    },
    {
     "name": "stdout",
     "output_type": "stream",
     "text": [
      "[{'gender': {'Woman': np.float32(3.4626913), 'Man': np.float32(96.537315)}, 'dominant_gender': 'Man', 'region': {'x': 0, 'y': 0, 'w': 639, 'h': 479, 'left_eye': None, 'right_eye': None}, 'face_confidence': 0, 'emotion': {'angry': np.float32(0.0022744646), 'disgust': np.float32(1.714455e-17), 'fear': np.float32(32.218002), 'happy': np.float32(1.2116851e-08), 'sad': np.float32(0.00083759014), 'surprise': np.float32(3.44417e-06), 'neutral': np.float32(67.778885)}, 'dominant_emotion': 'neutral'}]\n"
     ]
    },
    {
     "name": "stderr",
     "output_type": "stream",
     "text": [
      "Action: emotion: 100%|██████████| 2/2 [00:00<00:00, 13.36it/s]\n"
     ]
    },
    {
     "name": "stdout",
     "output_type": "stream",
     "text": [
      "[{'gender': {'Woman': np.float32(3.5271401), 'Man': np.float32(96.472855)}, 'dominant_gender': 'Man', 'region': {'x': 0, 'y': 0, 'w': 639, 'h': 479, 'left_eye': None, 'right_eye': None}, 'face_confidence': 0, 'emotion': {'angry': np.float32(0.08313043), 'disgust': np.float32(1.7949737e-19), 'fear': np.float32(48.92128), 'happy': np.float32(6.587539e-12), 'sad': np.float32(0.024624864), 'surprise': np.float32(1.4346099e-06), 'neutral': np.float32(50.970966)}, 'dominant_emotion': 'neutral'}]\n"
     ]
    },
    {
     "name": "stderr",
     "output_type": "stream",
     "text": [
      "Action: emotion: 100%|██████████| 2/2 [00:00<00:00, 13.65it/s]\n"
     ]
    },
    {
     "name": "stdout",
     "output_type": "stream",
     "text": [
      "[{'gender': {'Woman': np.float32(2.9487057), 'Man': np.float32(97.05129)}, 'dominant_gender': 'Man', 'region': {'x': 0, 'y': 0, 'w': 639, 'h': 479, 'left_eye': None, 'right_eye': None}, 'face_confidence': 0, 'emotion': {'angry': np.float32(1.7929654), 'disgust': np.float32(3.8718678e-08), 'fear': np.float32(96.05095), 'happy': np.float32(1.7204835e-05), 'sad': np.float32(0.33861786), 'surprise': np.float32(1.0733344e-05), 'neutral': np.float32(1.8174266)}, 'dominant_emotion': 'fear'}]\n"
     ]
    },
    {
     "name": "stderr",
     "output_type": "stream",
     "text": [
      "Action: emotion: 100%|██████████| 2/2 [00:00<00:00, 13.50it/s]\n"
     ]
    },
    {
     "name": "stdout",
     "output_type": "stream",
     "text": [
      "[{'gender': {'Woman': np.float32(3.140029), 'Man': np.float32(96.85997)}, 'dominant_gender': 'Man', 'region': {'x': 0, 'y': 0, 'w': 639, 'h': 479, 'left_eye': None, 'right_eye': None}, 'face_confidence': 0, 'emotion': {'angry': np.float32(0.00064529135), 'disgust': np.float32(1.08418986e-11), 'fear': np.float32(96.08861), 'happy': np.float32(2.0133743e-06), 'sad': np.float32(0.05251447), 'surprise': np.float32(4.4897732e-07), 'neutral': np.float32(3.858238)}, 'dominant_emotion': 'fear'}]\n"
     ]
    },
    {
     "name": "stderr",
     "output_type": "stream",
     "text": [
      "Action: emotion: 100%|██████████| 2/2 [00:00<00:00, 12.81it/s]\n"
     ]
    },
    {
     "name": "stdout",
     "output_type": "stream",
     "text": [
      "[{'gender': {'Woman': np.float32(3.0815742), 'Man': np.float32(96.91843)}, 'dominant_gender': 'Man', 'region': {'x': 0, 'y': 0, 'w': 639, 'h': 479, 'left_eye': None, 'right_eye': None}, 'face_confidence': 0, 'emotion': {'angry': np.float32(1.2055712e-09), 'disgust': np.float32(6.724234e-18), 'fear': np.float32(14.096872), 'happy': np.float32(3.396795e-06), 'sad': np.float32(1.8043756e-05), 'surprise': np.float32(3.936878e-07), 'neutral': np.float32(85.90311)}, 'dominant_emotion': 'neutral'}]\n"
     ]
    },
    {
     "name": "stderr",
     "output_type": "stream",
     "text": [
      "Action: emotion: 100%|██████████| 2/2 [00:00<00:00, 13.86it/s]\n"
     ]
    },
    {
     "name": "stdout",
     "output_type": "stream",
     "text": [
      "[{'gender': {'Woman': np.float32(3.0618346), 'Man': np.float32(96.93816)}, 'dominant_gender': 'Man', 'region': {'x': 0, 'y': 0, 'w': 639, 'h': 479, 'left_eye': None, 'right_eye': None}, 'face_confidence': 0, 'emotion': {'angry': np.float32(1.7812413e-08), 'disgust': np.float32(4.1381414e-18), 'fear': np.float32(20.379156), 'happy': np.float32(1.8698056e-06), 'sad': np.float32(2.2659942e-05), 'surprise': np.float32(1.1104887e-06), 'neutral': np.float32(79.62082)}, 'dominant_emotion': 'neutral'}]\n"
     ]
    },
    {
     "name": "stderr",
     "output_type": "stream",
     "text": [
      "Action: emotion: 100%|██████████| 2/2 [00:00<00:00, 13.42it/s]\n"
     ]
    },
    {
     "name": "stdout",
     "output_type": "stream",
     "text": [
      "[{'gender': {'Woman': np.float32(2.9888117), 'Man': np.float32(97.01119)}, 'dominant_gender': 'Man', 'region': {'x': 0, 'y': 0, 'w': 639, 'h': 479, 'left_eye': None, 'right_eye': None}, 'face_confidence': 0, 'emotion': {'angry': np.float32(0.00011255798), 'disgust': np.float32(2.1900863e-08), 'fear': np.float32(4.9400773), 'happy': np.float32(0.2644181), 'sad': np.float32(0.04296158), 'surprise': np.float32(5.7064784e-07), 'neutral': np.float32(94.75243)}, 'dominant_emotion': 'neutral'}]\n"
     ]
    },
    {
     "name": "stderr",
     "output_type": "stream",
     "text": [
      "Action: emotion: 100%|██████████| 2/2 [00:00<00:00, 13.11it/s]\n"
     ]
    },
    {
     "name": "stdout",
     "output_type": "stream",
     "text": [
      "[{'gender': {'Woman': np.float32(3.1200902), 'Man': np.float32(96.87992)}, 'dominant_gender': 'Man', 'region': {'x': 0, 'y': 0, 'w': 639, 'h': 479, 'left_eye': None, 'right_eye': None}, 'face_confidence': 0, 'emotion': {'angry': np.float32(0.00038983944), 'disgust': np.float32(1.2141164e-09), 'fear': np.float32(41.849014), 'happy': np.float32(0.004616037), 'sad': np.float32(0.19658563), 'surprise': np.float32(2.8386667e-08), 'neutral': np.float32(57.949394)}, 'dominant_emotion': 'neutral'}]\n"
     ]
    },
    {
     "name": "stderr",
     "output_type": "stream",
     "text": [
      "Action: emotion: 100%|██████████| 2/2 [00:00<00:00, 13.02it/s]\n"
     ]
    },
    {
     "name": "stdout",
     "output_type": "stream",
     "text": [
      "[{'gender': {'Woman': np.float32(2.9383469), 'Man': np.float32(97.06166)}, 'dominant_gender': 'Man', 'region': {'x': 0, 'y': 0, 'w': 639, 'h': 479, 'left_eye': None, 'right_eye': None}, 'face_confidence': 0, 'emotion': {'angry': np.float32(4.9730495e-08), 'disgust': np.float32(3.5669706e-14), 'fear': np.float32(3.8901775), 'happy': np.float32(0.0003661537), 'sad': np.float32(0.00016606352), 'surprise': np.float32(1.4212749e-07), 'neutral': np.float32(96.10928)}, 'dominant_emotion': 'neutral'}]\n"
     ]
    },
    {
     "name": "stderr",
     "output_type": "stream",
     "text": [
      "Action: emotion: 100%|██████████| 2/2 [00:00<00:00, 12.32it/s]\n"
     ]
    },
    {
     "name": "stdout",
     "output_type": "stream",
     "text": [
      "[{'gender': {'Woman': np.float32(3.279749), 'Man': np.float32(96.720245)}, 'dominant_gender': 'Man', 'region': {'x': 0, 'y': 0, 'w': 639, 'h': 479, 'left_eye': None, 'right_eye': None}, 'face_confidence': 0, 'emotion': {'angry': np.float32(1.2114116e-07), 'disgust': np.float32(4.5969126e-15), 'fear': np.float32(0.112055734), 'happy': np.float32(6.927682e-05), 'sad': np.float32(5.5942644e-05), 'surprise': np.float32(6.824862e-08), 'neutral': np.float32(99.88782)}, 'dominant_emotion': 'neutral'}]\n"
     ]
    },
    {
     "name": "stderr",
     "output_type": "stream",
     "text": [
      "Action: emotion: 100%|██████████| 2/2 [00:00<00:00, 11.79it/s]\n"
     ]
    },
    {
     "name": "stdout",
     "output_type": "stream",
     "text": [
      "[{'gender': {'Woman': np.float32(3.5513659), 'Man': np.float32(96.44863)}, 'dominant_gender': 'Man', 'region': {'x': 0, 'y': 0, 'w': 639, 'h': 479, 'left_eye': None, 'right_eye': None}, 'face_confidence': 0, 'emotion': {'angry': np.float32(5.312751e-06), 'disgust': np.float32(5.4756406e-13), 'fear': np.float32(0.16143556), 'happy': np.float32(0.00079457153), 'sad': np.float32(0.00020634917), 'surprise': np.float32(5.3910284e-08), 'neutral': np.float32(99.83756)}, 'dominant_emotion': 'neutral'}]\n"
     ]
    },
    {
     "name": "stderr",
     "output_type": "stream",
     "text": [
      "Action: emotion: 100%|██████████| 2/2 [00:00<00:00, 12.53it/s]\n"
     ]
    },
    {
     "name": "stdout",
     "output_type": "stream",
     "text": [
      "[{'gender': {'Woman': np.float32(3.4144163), 'Man': np.float32(96.58559)}, 'dominant_gender': 'Man', 'region': {'x': 0, 'y': 0, 'w': 639, 'h': 479, 'left_eye': None, 'right_eye': None}, 'face_confidence': 0, 'emotion': {'angry': np.float32(1.4048863e-05), 'disgust': np.float32(5.3393834e-12), 'fear': np.float32(0.10729438), 'happy': np.float32(0.0020710863), 'sad': np.float32(0.0006366336), 'surprise': np.float32(6.290888e-08), 'neutral': np.float32(99.889984)}, 'dominant_emotion': 'neutral'}]\n"
     ]
    },
    {
     "name": "stderr",
     "output_type": "stream",
     "text": [
      "Action: emotion: 100%|██████████| 2/2 [00:00<00:00, 12.63it/s]\n"
     ]
    },
    {
     "name": "stdout",
     "output_type": "stream",
     "text": [
      "[{'gender': {'Woman': np.float32(3.2305603), 'Man': np.float32(96.76944)}, 'dominant_gender': 'Man', 'region': {'x': 0, 'y': 0, 'w': 639, 'h': 479, 'left_eye': None, 'right_eye': None}, 'face_confidence': 0, 'emotion': {'angry': np.float32(3.7786233e-08), 'disgust': np.float32(1.6192495e-16), 'fear': np.float32(2.8799205), 'happy': np.float32(6.1731985e-06), 'sad': np.float32(0.00020482224), 'surprise': np.float32(7.7314944e-08), 'neutral': np.float32(97.11987)}, 'dominant_emotion': 'neutral'}]\n"
     ]
    },
    {
     "name": "stderr",
     "output_type": "stream",
     "text": [
      "Action: emotion: 100%|██████████| 2/2 [00:00<00:00, 12.78it/s]\n"
     ]
    },
    {
     "name": "stdout",
     "output_type": "stream",
     "text": [
      "[{'gender': {'Woman': np.float32(3.1485896), 'Man': np.float32(96.85142)}, 'dominant_gender': 'Man', 'region': {'x': 0, 'y': 0, 'w': 639, 'h': 479, 'left_eye': None, 'right_eye': None}, 'face_confidence': 0, 'emotion': {'angry': np.float32(1.1929855e-07), 'disgust': np.float32(2.3251548e-15), 'fear': np.float32(25.151846), 'happy': np.float32(1.024986e-05), 'sad': np.float32(0.00076508825), 'surprise': np.float32(1.03731054e-07), 'neutral': np.float32(74.847374)}, 'dominant_emotion': 'neutral'}]\n"
     ]
    },
    {
     "name": "stderr",
     "output_type": "stream",
     "text": [
      "Action: emotion: 100%|██████████| 2/2 [00:00<00:00, 12.97it/s]\n"
     ]
    },
    {
     "name": "stdout",
     "output_type": "stream",
     "text": [
      "[{'gender': {'Woman': np.float32(3.1767733), 'Man': np.float32(96.82322)}, 'dominant_gender': 'Man', 'region': {'x': 0, 'y': 0, 'w': 639, 'h': 479, 'left_eye': None, 'right_eye': None}, 'face_confidence': 0, 'emotion': {'angry': np.float32(8.228165e-08), 'disgust': np.float32(2.1509846e-13), 'fear': np.float32(2.2000966), 'happy': np.float32(0.0005057647), 'sad': np.float32(0.0007526548), 'surprise': np.float32(9.072829e-08), 'neutral': np.float32(97.798645)}, 'dominant_emotion': 'neutral'}]\n"
     ]
    },
    {
     "name": "stderr",
     "output_type": "stream",
     "text": [
      "Action: emotion: 100%|██████████| 2/2 [00:00<00:00, 12.97it/s]\n"
     ]
    },
    {
     "name": "stdout",
     "output_type": "stream",
     "text": [
      "[{'gender': {'Woman': np.float32(3.41737), 'Man': np.float32(96.58263)}, 'dominant_gender': 'Man', 'region': {'x': 0, 'y': 0, 'w': 639, 'h': 479, 'left_eye': None, 'right_eye': None}, 'face_confidence': 0, 'emotion': {'angry': np.float32(6.3940455e-08), 'disgust': np.float32(1.4571929e-16), 'fear': np.float32(18.169428), 'happy': np.float32(1.224878e-06), 'sad': np.float32(0.0004328434), 'surprise': np.float32(6.332052e-08), 'neutral': np.float32(81.83015)}, 'dominant_emotion': 'neutral'}]\n"
     ]
    },
    {
     "name": "stderr",
     "output_type": "stream",
     "text": [
      "Action: emotion: 100%|██████████| 2/2 [00:00<00:00, 12.27it/s]\n"
     ]
    },
    {
     "name": "stdout",
     "output_type": "stream",
     "text": [
      "[{'gender': {'Woman': np.float32(3.3999033), 'Man': np.float32(96.600105)}, 'dominant_gender': 'Man', 'region': {'x': 0, 'y': 0, 'w': 639, 'h': 479, 'left_eye': None, 'right_eye': None}, 'face_confidence': 0, 'emotion': {'angry': np.float32(1.2578514e-06), 'disgust': np.float32(2.3931978e-12), 'fear': np.float32(1.4950278), 'happy': np.float32(0.0016108684), 'sad': np.float32(0.0061188308), 'surprise': np.float32(9.367775e-08), 'neutral': np.float32(98.49724)}, 'dominant_emotion': 'neutral'}]\n"
     ]
    },
    {
     "name": "stderr",
     "output_type": "stream",
     "text": [
      "Action: emotion: 100%|██████████| 2/2 [00:00<00:00, 12.26it/s]\n"
     ]
    },
    {
     "name": "stdout",
     "output_type": "stream",
     "text": [
      "[{'gender': {'Woman': np.float32(3.2925048), 'Man': np.float32(96.7075)}, 'dominant_gender': 'Man', 'region': {'x': 0, 'y': 0, 'w': 639, 'h': 479, 'left_eye': None, 'right_eye': None}, 'face_confidence': 0, 'emotion': {'angry': np.float32(4.1118406e-07), 'disgust': np.float32(1.6253982e-15), 'fear': np.float32(19.881935), 'happy': np.float32(8.986847e-06), 'sad': np.float32(0.0053217867), 'surprise': np.float32(3.976151e-08), 'neutral': np.float32(80.11274)}, 'dominant_emotion': 'neutral'}]\n"
     ]
    },
    {
     "name": "stderr",
     "output_type": "stream",
     "text": [
      "Action: emotion: 100%|██████████| 2/2 [00:00<00:00, 12.57it/s]\n"
     ]
    },
    {
     "name": "stdout",
     "output_type": "stream",
     "text": [
      "[{'gender': {'Woman': np.float32(3.3824039), 'Man': np.float32(96.61759)}, 'dominant_gender': 'Man', 'region': {'x': 0, 'y': 0, 'w': 639, 'h': 479, 'left_eye': None, 'right_eye': None}, 'face_confidence': 0, 'emotion': {'angry': np.float32(5.277389e-07), 'disgust': np.float32(1.1223192e-14), 'fear': np.float32(18.069504), 'happy': np.float32(2.3954768e-05), 'sad': np.float32(0.006913474), 'surprise': np.float32(4.1811e-08), 'neutral': np.float32(81.92356)}, 'dominant_emotion': 'neutral'}]\n"
     ]
    },
    {
     "name": "stderr",
     "output_type": "stream",
     "text": [
      "Action: emotion: 100%|██████████| 2/2 [00:00<00:00, 12.34it/s]\n"
     ]
    },
    {
     "name": "stdout",
     "output_type": "stream",
     "text": [
      "[{'gender': {'Woman': np.float32(3.3708136), 'Man': np.float32(96.62919)}, 'dominant_gender': 'Man', 'region': {'x': 0, 'y': 0, 'w': 639, 'h': 479, 'left_eye': None, 'right_eye': None}, 'face_confidence': 0, 'emotion': {'angry': np.float32(1.8743298e-05), 'disgust': np.float32(1.9085278e-10), 'fear': np.float32(0.0019019678), 'happy': np.float32(0.50068146), 'sad': np.float32(0.036978602), 'surprise': np.float32(6.625506e-10), 'neutral': np.float32(99.46041)}, 'dominant_emotion': 'neutral'}]\n"
     ]
    },
    {
     "name": "stderr",
     "output_type": "stream",
     "text": [
      "Action: emotion: 100%|██████████| 2/2 [00:00<00:00, 13.08it/s]\n"
     ]
    },
    {
     "name": "stdout",
     "output_type": "stream",
     "text": [
      "[{'gender': {'Woman': np.float32(3.7071407), 'Man': np.float32(96.292854)}, 'dominant_gender': 'Man', 'region': {'x': 0, 'y': 0, 'w': 639, 'h': 479, 'left_eye': None, 'right_eye': None}, 'face_confidence': 0, 'emotion': {'angry': np.float32(0.005369971), 'disgust': np.float32(2.099313e-10), 'fear': np.float32(0.00014595687), 'happy': np.float32(0.051571198), 'sad': np.float32(14.831768), 'surprise': np.float32(7.2907645e-11), 'neutral': np.float32(85.111145)}, 'dominant_emotion': 'neutral'}]\n"
     ]
    },
    {
     "name": "stderr",
     "output_type": "stream",
     "text": [
      "Action: emotion: 100%|██████████| 2/2 [00:00<00:00, 13.55it/s]\n"
     ]
    },
    {
     "name": "stdout",
     "output_type": "stream",
     "text": [
      "[{'gender': {'Woman': np.float32(3.6745574), 'Man': np.float32(96.32544)}, 'dominant_gender': 'Man', 'region': {'x': 0, 'y': 0, 'w': 639, 'h': 479, 'left_eye': None, 'right_eye': None}, 'face_confidence': 0, 'emotion': {'angry': np.float32(0.0071637225), 'disgust': np.float32(1.3246314e-10), 'fear': np.float32(2.238599e-05), 'happy': np.float32(0.008173328), 'sad': np.float32(18.898075), 'surprise': np.float32(1.9700747e-12), 'neutral': np.float32(81.08656)}, 'dominant_emotion': 'neutral'}]\n"
     ]
    },
    {
     "name": "stderr",
     "output_type": "stream",
     "text": [
      "Action: emotion: 100%|██████████| 2/2 [00:00<00:00, 12.23it/s]\n"
     ]
    },
    {
     "name": "stdout",
     "output_type": "stream",
     "text": [
      "[{'gender': {'Woman': np.float32(3.5879571), 'Man': np.float32(96.41204)}, 'dominant_gender': 'Man', 'region': {'x': 0, 'y': 0, 'w': 639, 'h': 479, 'left_eye': None, 'right_eye': None}, 'face_confidence': 0, 'emotion': {'angry': np.float32(0.009036412), 'disgust': np.float32(9.01902e-11), 'fear': np.float32(1.2794561e-05), 'happy': np.float32(0.04270185), 'sad': np.float32(18.046846), 'surprise': np.float32(3.8029497e-13), 'neutral': np.float32(81.9014)}, 'dominant_emotion': 'neutral'}]\n"
     ]
    },
    {
     "name": "stderr",
     "output_type": "stream",
     "text": [
      "Action: emotion: 100%|██████████| 2/2 [00:00<00:00, 13.41it/s]\n"
     ]
    },
    {
     "name": "stdout",
     "output_type": "stream",
     "text": [
      "[{'gender': {'Woman': np.float32(3.4416177), 'Man': np.float32(96.55838)}, 'dominant_gender': 'Man', 'region': {'x': 0, 'y': 0, 'w': 639, 'h': 479, 'left_eye': None, 'right_eye': None}, 'face_confidence': 0, 'emotion': {'angry': np.float32(0.14496496), 'disgust': np.float32(4.7574167e-09), 'fear': np.float32(0.00079348474), 'happy': np.float32(2.1767457), 'sad': np.float32(69.66633), 'surprise': np.float32(1.7485825e-11), 'neutral': np.float32(28.011168)}, 'dominant_emotion': 'sad'}]\n"
     ]
    },
    {
     "name": "stderr",
     "output_type": "stream",
     "text": [
      "Action: emotion: 100%|██████████| 2/2 [00:00<00:00, 13.45it/s]\n"
     ]
    },
    {
     "name": "stdout",
     "output_type": "stream",
     "text": [
      "[{'gender': {'Woman': np.float32(3.41679), 'Man': np.float32(96.583206)}, 'dominant_gender': 'Man', 'region': {'x': 0, 'y': 0, 'w': 639, 'h': 479, 'left_eye': None, 'right_eye': None}, 'face_confidence': 0, 'emotion': {'angry': np.float32(0.095534496), 'disgust': np.float32(2.70797e-08), 'fear': np.float32(0.011263154), 'happy': np.float32(0.85553277), 'sad': np.float32(88.327644), 'surprise': np.float32(4.9565543e-11), 'neutral': np.float32(10.710029)}, 'dominant_emotion': 'sad'}]\n"
     ]
    },
    {
     "name": "stderr",
     "output_type": "stream",
     "text": [
      "Action: emotion: 100%|██████████| 2/2 [00:00<00:00, 13.53it/s]\n"
     ]
    },
    {
     "name": "stdout",
     "output_type": "stream",
     "text": [
      "[{'gender': {'Woman': np.float32(3.2775064), 'Man': np.float32(96.72249)}, 'dominant_gender': 'Man', 'region': {'x': 0, 'y': 0, 'w': 639, 'h': 479, 'left_eye': None, 'right_eye': None}, 'face_confidence': 0, 'emotion': {'angry': np.float32(0.116410725), 'disgust': np.float32(3.522878e-08), 'fear': np.float32(0.242848), 'happy': np.float32(5.4950895), 'sad': np.float32(92.77325), 'surprise': np.float32(4.7408083e-10), 'neutral': np.float32(1.3724)}, 'dominant_emotion': 'sad'}]\n"
     ]
    },
    {
     "name": "stderr",
     "output_type": "stream",
     "text": [
      "Action: emotion: 100%|██████████| 2/2 [00:00<00:00, 13.47it/s]\n"
     ]
    },
    {
     "name": "stdout",
     "output_type": "stream",
     "text": [
      "[{'gender': {'Woman': np.float32(3.5521827), 'Man': np.float32(96.44782)}, 'dominant_gender': 'Man', 'region': {'x': 0, 'y': 0, 'w': 639, 'h': 479, 'left_eye': None, 'right_eye': None}, 'face_confidence': 0, 'emotion': {'angry': np.float32(0.43134052), 'disgust': np.float32(3.2136303e-09), 'fear': np.float32(0.0004543494), 'happy': np.float32(1.6202637), 'sad': np.float32(92.34815), 'surprise': np.float32(2.1690625e-12), 'neutral': np.float32(5.5997863)}, 'dominant_emotion': 'sad'}]\n"
     ]
    },
    {
     "name": "stderr",
     "output_type": "stream",
     "text": [
      "Action: emotion: 100%|██████████| 2/2 [00:00<00:00, 13.68it/s]\n"
     ]
    },
    {
     "name": "stdout",
     "output_type": "stream",
     "text": [
      "[{'gender': {'Woman': np.float32(3.6870658), 'Man': np.float32(96.312935)}, 'dominant_gender': 'Man', 'region': {'x': 0, 'y': 0, 'w': 639, 'h': 479, 'left_eye': None, 'right_eye': None}, 'face_confidence': 0, 'emotion': {'angry': np.float32(0.04280355), 'disgust': np.float32(3.7245776e-10), 'fear': np.float32(6.6031903e-06), 'happy': np.float32(0.14369884), 'sad': np.float32(18.494617), 'surprise': np.float32(1.1987938e-12), 'neutral': np.float32(81.31888)}, 'dominant_emotion': 'neutral'}]\n"
     ]
    },
    {
     "name": "stderr",
     "output_type": "stream",
     "text": [
      "Action: emotion: 100%|██████████| 2/2 [00:00<00:00, 13.55it/s]\n"
     ]
    },
    {
     "name": "stdout",
     "output_type": "stream",
     "text": [
      "[{'gender': {'Woman': np.float32(3.8329873), 'Man': np.float32(96.16701)}, 'dominant_gender': 'Man', 'region': {'x': 0, 'y': 0, 'w': 639, 'h': 479, 'left_eye': None, 'right_eye': None}, 'face_confidence': 0, 'emotion': {'angry': np.float32(0.041757204), 'disgust': np.float32(1.2267523e-08), 'fear': np.float32(0.00043956714), 'happy': np.float32(2.0995705), 'sad': np.float32(48.09786), 'surprise': np.float32(1.4964534e-10), 'neutral': np.float32(49.760376)}, 'dominant_emotion': 'neutral'}]\n"
     ]
    },
    {
     "name": "stderr",
     "output_type": "stream",
     "text": [
      "Action: emotion: 100%|██████████| 2/2 [00:00<00:00, 13.51it/s]\n"
     ]
    },
    {
     "name": "stdout",
     "output_type": "stream",
     "text": [
      "[{'gender': {'Woman': np.float32(3.7951753), 'Man': np.float32(96.20483)}, 'dominant_gender': 'Man', 'region': {'x': 0, 'y': 0, 'w': 639, 'h': 479, 'left_eye': None, 'right_eye': None}, 'face_confidence': 0, 'emotion': {'angry': np.float32(0.08187522), 'disgust': np.float32(2.5471822e-08), 'fear': np.float32(0.0015385391), 'happy': np.float32(8.154541), 'sad': np.float32(50.452675), 'surprise': np.float32(3.7989586e-10), 'neutral': np.float32(41.309376)}, 'dominant_emotion': 'sad'}]\n"
     ]
    },
    {
     "name": "stderr",
     "output_type": "stream",
     "text": [
      "Action: emotion: 100%|██████████| 2/2 [00:00<00:00, 13.58it/s]\n"
     ]
    },
    {
     "name": "stdout",
     "output_type": "stream",
     "text": [
      "[{'gender': {'Woman': np.float32(4.385046), 'Man': np.float32(95.61496)}, 'dominant_gender': 'Man', 'region': {'x': 0, 'y': 0, 'w': 639, 'h': 479, 'left_eye': None, 'right_eye': None}, 'face_confidence': 0, 'emotion': {'angry': np.float32(1.1684131e-06), 'disgust': np.float32(5.8912175e-15), 'fear': np.float32(7.709791e-06), 'happy': np.float32(0.0009165134), 'sad': np.float32(0.009050541), 'surprise': np.float32(7.921371e-13), 'neutral': np.float32(99.99002)}, 'dominant_emotion': 'neutral'}]\n"
     ]
    },
    {
     "name": "stderr",
     "output_type": "stream",
     "text": [
      "Action: emotion: 100%|██████████| 2/2 [00:00<00:00, 12.78it/s]\n"
     ]
    },
    {
     "name": "stdout",
     "output_type": "stream",
     "text": [
      "[{'gender': {'Woman': np.float32(3.0184345), 'Man': np.float32(96.98157)}, 'dominant_gender': 'Man', 'region': {'x': 0, 'y': 0, 'w': 639, 'h': 479, 'left_eye': None, 'right_eye': None}, 'face_confidence': 0, 'emotion': {'angry': np.float32(0.0018715503), 'disgust': np.float32(1.6700199e-11), 'fear': np.float32(99.95478), 'happy': np.float32(2.0569783e-07), 'sad': np.float32(0.012038842), 'surprise': np.float32(2.2014399e-06), 'neutral': np.float32(0.031308115)}, 'dominant_emotion': 'fear'}]\n"
     ]
    }
   ],
   "source": [
    "import cv2\n",
    "from deepface import DeepFace\n",
    "\n",
    "vid = cv2.VideoCapture(0, cv2.CAP_DSHOW)\n",
    "\n",
    "# font \n",
    "font = cv2.FONT_HERSHEY_SIMPLEX\n",
    "fontScale = 1\n",
    "color = (255, 0, 0) \n",
    "thickness = 2 \n",
    "pos = (50, 50) \n",
    "  \n",
    "while(True):      \n",
    "    # fotograma a fotograma\n",
    "    ret, frame = vid.read()\n",
    "  \n",
    "    if ret:  \n",
    "        obj = DeepFace.analyze(img_path = frame, enforce_detection=False, actions =['gender', 'emotion'])\n",
    "        print(obj)\n",
    "\n",
    "        # Primera cara\n",
    "        image = cv2.putText(frame, str(obj[0]['dominant_gender']+' '+obj[0]['dominant_emotion']), pos, font,  \n",
    "                        fontScale, color, thickness, cv2.LINE_AA) \n",
    "        # Muestra fotograma\n",
    "        cv2.imshow('Vid', frame)\n",
    "    \n",
    "    # Detenemos pulsado ESC\n",
    "    if cv2.waitKey(20) == 27:\n",
    "        break\n",
    "  \n",
    "# Libera el objeto de captura\n",
    "vid.release()\n",
    "# Destruye ventanas\n",
    "cv2.destroyAllWindows()"
   ]
  }
 ],
 "metadata": {
  "kernelspec": {
   "display_name": "VC_P5",
   "language": "python",
   "name": "python3"
  },
  "language_info": {
   "codemirror_mode": {
    "name": "ipython",
    "version": 3
   },
   "file_extension": ".py",
   "mimetype": "text/x-python",
   "name": "python",
   "nbconvert_exporter": "python",
   "pygments_lexer": "ipython3",
   "version": "3.11.5"
  }
 },
 "nbformat": 4,
 "nbformat_minor": 5
}
